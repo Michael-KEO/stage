{
 "cells": [
  {
   "cell_type": "markdown",
   "id": "2cb982e8",
   "metadata": {},
   "source": [
    "# Installation des bibliothèques"
   ]
  },
  {
   "cell_type": "code",
   "execution_count": 2,
   "id": "f331a072",
   "metadata": {},
   "outputs": [
    {
     "name": "stdout",
     "output_type": "stream",
     "text": [
      "Installation des bibliothèques\n",
      "Requirement already satisfied: numpy in /home/dertyxx/Documents/stage/network-sniffer/venv/lib/python3.12/site-packages (from -r ../requirements.txt (line 1)) (2.3.2)\n",
      "Requirement already satisfied: pandas in /home/dertyxx/Documents/stage/network-sniffer/venv/lib/python3.12/site-packages (from -r ../requirements.txt (line 2)) (2.3.1)\n",
      "Requirement already satisfied: scikit-learn in /home/dertyxx/Documents/stage/network-sniffer/venv/lib/python3.12/site-packages (from -r ../requirements.txt (line 3)) (1.7.1)\n",
      "Requirement already satisfied: jupyter>=1.0.0 in /home/dertyxx/Documents/stage/network-sniffer/venv/lib/python3.12/site-packages (from -r ../requirements.txt (line 4)) (1.1.1)\n",
      "Requirement already satisfied: matplotlib>=3.7.2 in /home/dertyxx/Documents/stage/network-sniffer/venv/lib/python3.12/site-packages (from -r ../requirements.txt (line 5)) (3.10.3)\n",
      "Requirement already satisfied: seaborn>=0.12.2 in /home/dertyxx/Documents/stage/network-sniffer/venv/lib/python3.12/site-packages (from -r ../requirements.txt (line 6)) (0.13.2)\n",
      "Requirement already satisfied: transformers>=4.30.0 in /home/dertyxx/Documents/stage/network-sniffer/venv/lib/python3.12/site-packages (from -r ../requirements.txt (line 7)) (4.54.0)\n",
      "Requirement already satisfied: torch>=2.0.0 in /home/dertyxx/Documents/stage/network-sniffer/venv/lib/python3.12/site-packages (from -r ../requirements.txt (line 8)) (2.7.1)\n",
      "Requirement already satisfied: python-dateutil>=2.8.2 in /home/dertyxx/Documents/stage/network-sniffer/venv/lib/python3.12/site-packages (from pandas->-r ../requirements.txt (line 2)) (2.9.0.post0)\n",
      "Requirement already satisfied: pytz>=2020.1 in /home/dertyxx/Documents/stage/network-sniffer/venv/lib/python3.12/site-packages (from pandas->-r ../requirements.txt (line 2)) (2025.2)\n",
      "Requirement already satisfied: tzdata>=2022.7 in /home/dertyxx/Documents/stage/network-sniffer/venv/lib/python3.12/site-packages (from pandas->-r ../requirements.txt (line 2)) (2025.2)\n",
      "Requirement already satisfied: scipy>=1.8.0 in /home/dertyxx/Documents/stage/network-sniffer/venv/lib/python3.12/site-packages (from scikit-learn->-r ../requirements.txt (line 3)) (1.16.0)\n",
      "Requirement already satisfied: joblib>=1.2.0 in /home/dertyxx/Documents/stage/network-sniffer/venv/lib/python3.12/site-packages (from scikit-learn->-r ../requirements.txt (line 3)) (1.5.1)\n",
      "Requirement already satisfied: threadpoolctl>=3.1.0 in /home/dertyxx/Documents/stage/network-sniffer/venv/lib/python3.12/site-packages (from scikit-learn->-r ../requirements.txt (line 3)) (3.6.0)\n",
      "Requirement already satisfied: notebook in /home/dertyxx/Documents/stage/network-sniffer/venv/lib/python3.12/site-packages (from jupyter>=1.0.0->-r ../requirements.txt (line 4)) (7.4.4)\n",
      "Requirement already satisfied: jupyter-console in /home/dertyxx/Documents/stage/network-sniffer/venv/lib/python3.12/site-packages (from jupyter>=1.0.0->-r ../requirements.txt (line 4)) (6.6.3)\n",
      "Requirement already satisfied: nbconvert in /home/dertyxx/Documents/stage/network-sniffer/venv/lib/python3.12/site-packages (from jupyter>=1.0.0->-r ../requirements.txt (line 4)) (7.16.6)\n",
      "Requirement already satisfied: ipykernel in /home/dertyxx/Documents/stage/network-sniffer/venv/lib/python3.12/site-packages (from jupyter>=1.0.0->-r ../requirements.txt (line 4)) (6.30.0)\n",
      "Requirement already satisfied: ipywidgets in /home/dertyxx/Documents/stage/network-sniffer/venv/lib/python3.12/site-packages (from jupyter>=1.0.0->-r ../requirements.txt (line 4)) (8.1.7)\n",
      "Requirement already satisfied: jupyterlab in /home/dertyxx/Documents/stage/network-sniffer/venv/lib/python3.12/site-packages (from jupyter>=1.0.0->-r ../requirements.txt (line 4)) (4.4.5)\n",
      "Requirement already satisfied: contourpy>=1.0.1 in /home/dertyxx/Documents/stage/network-sniffer/venv/lib/python3.12/site-packages (from matplotlib>=3.7.2->-r ../requirements.txt (line 5)) (1.3.2)\n",
      "Requirement already satisfied: cycler>=0.10 in /home/dertyxx/Documents/stage/network-sniffer/venv/lib/python3.12/site-packages (from matplotlib>=3.7.2->-r ../requirements.txt (line 5)) (0.12.1)\n",
      "Requirement already satisfied: fonttools>=4.22.0 in /home/dertyxx/Documents/stage/network-sniffer/venv/lib/python3.12/site-packages (from matplotlib>=3.7.2->-r ../requirements.txt (line 5)) (4.59.0)\n",
      "Requirement already satisfied: kiwisolver>=1.3.1 in /home/dertyxx/Documents/stage/network-sniffer/venv/lib/python3.12/site-packages (from matplotlib>=3.7.2->-r ../requirements.txt (line 5)) (1.4.8)\n",
      "Requirement already satisfied: packaging>=20.0 in /home/dertyxx/Documents/stage/network-sniffer/venv/lib/python3.12/site-packages (from matplotlib>=3.7.2->-r ../requirements.txt (line 5)) (25.0)\n",
      "Requirement already satisfied: pillow>=8 in /home/dertyxx/Documents/stage/network-sniffer/venv/lib/python3.12/site-packages (from matplotlib>=3.7.2->-r ../requirements.txt (line 5)) (11.3.0)\n",
      "Requirement already satisfied: pyparsing>=2.3.1 in /home/dertyxx/Documents/stage/network-sniffer/venv/lib/python3.12/site-packages (from matplotlib>=3.7.2->-r ../requirements.txt (line 5)) (3.2.3)\n",
      "Requirement already satisfied: filelock in /home/dertyxx/Documents/stage/network-sniffer/venv/lib/python3.12/site-packages (from transformers>=4.30.0->-r ../requirements.txt (line 7)) (3.18.0)\n",
      "Requirement already satisfied: huggingface-hub<1.0,>=0.34.0 in /home/dertyxx/Documents/stage/network-sniffer/venv/lib/python3.12/site-packages (from transformers>=4.30.0->-r ../requirements.txt (line 7)) (0.34.1)\n",
      "Requirement already satisfied: pyyaml>=5.1 in /home/dertyxx/Documents/stage/network-sniffer/venv/lib/python3.12/site-packages (from transformers>=4.30.0->-r ../requirements.txt (line 7)) (6.0.2)\n",
      "Requirement already satisfied: regex!=2019.12.17 in /home/dertyxx/Documents/stage/network-sniffer/venv/lib/python3.12/site-packages (from transformers>=4.30.0->-r ../requirements.txt (line 7)) (2024.11.6)\n",
      "Requirement already satisfied: requests in /home/dertyxx/Documents/stage/network-sniffer/venv/lib/python3.12/site-packages (from transformers>=4.30.0->-r ../requirements.txt (line 7)) (2.32.4)\n",
      "Requirement already satisfied: tokenizers<0.22,>=0.21 in /home/dertyxx/Documents/stage/network-sniffer/venv/lib/python3.12/site-packages (from transformers>=4.30.0->-r ../requirements.txt (line 7)) (0.21.2)\n",
      "Requirement already satisfied: safetensors>=0.4.3 in /home/dertyxx/Documents/stage/network-sniffer/venv/lib/python3.12/site-packages (from transformers>=4.30.0->-r ../requirements.txt (line 7)) (0.5.3)\n",
      "Requirement already satisfied: tqdm>=4.27 in /home/dertyxx/Documents/stage/network-sniffer/venv/lib/python3.12/site-packages (from transformers>=4.30.0->-r ../requirements.txt (line 7)) (4.67.1)\n",
      "Requirement already satisfied: typing-extensions>=4.10.0 in /home/dertyxx/Documents/stage/network-sniffer/venv/lib/python3.12/site-packages (from torch>=2.0.0->-r ../requirements.txt (line 8)) (4.14.1)\n",
      "Requirement already satisfied: setuptools in /home/dertyxx/Documents/stage/network-sniffer/venv/lib/python3.12/site-packages (from torch>=2.0.0->-r ../requirements.txt (line 8)) (80.9.0)\n",
      "Requirement already satisfied: sympy>=1.13.3 in /home/dertyxx/Documents/stage/network-sniffer/venv/lib/python3.12/site-packages (from torch>=2.0.0->-r ../requirements.txt (line 8)) (1.14.0)\n",
      "Requirement already satisfied: networkx in /home/dertyxx/Documents/stage/network-sniffer/venv/lib/python3.12/site-packages (from torch>=2.0.0->-r ../requirements.txt (line 8)) (3.5)\n",
      "Requirement already satisfied: jinja2 in /home/dertyxx/Documents/stage/network-sniffer/venv/lib/python3.12/site-packages (from torch>=2.0.0->-r ../requirements.txt (line 8)) (3.1.6)\n",
      "Requirement already satisfied: fsspec in /home/dertyxx/Documents/stage/network-sniffer/venv/lib/python3.12/site-packages (from torch>=2.0.0->-r ../requirements.txt (line 8)) (2025.7.0)\n",
      "Requirement already satisfied: nvidia-cuda-nvrtc-cu12==12.6.77 in /home/dertyxx/Documents/stage/network-sniffer/venv/lib/python3.12/site-packages (from torch>=2.0.0->-r ../requirements.txt (line 8)) (12.6.77)\n",
      "Requirement already satisfied: nvidia-cuda-runtime-cu12==12.6.77 in /home/dertyxx/Documents/stage/network-sniffer/venv/lib/python3.12/site-packages (from torch>=2.0.0->-r ../requirements.txt (line 8)) (12.6.77)\n",
      "Requirement already satisfied: nvidia-cuda-cupti-cu12==12.6.80 in /home/dertyxx/Documents/stage/network-sniffer/venv/lib/python3.12/site-packages (from torch>=2.0.0->-r ../requirements.txt (line 8)) (12.6.80)\n",
      "Requirement already satisfied: nvidia-cudnn-cu12==9.5.1.17 in /home/dertyxx/Documents/stage/network-sniffer/venv/lib/python3.12/site-packages (from torch>=2.0.0->-r ../requirements.txt (line 8)) (9.5.1.17)\n",
      "Requirement already satisfied: nvidia-cublas-cu12==12.6.4.1 in /home/dertyxx/Documents/stage/network-sniffer/venv/lib/python3.12/site-packages (from torch>=2.0.0->-r ../requirements.txt (line 8)) (12.6.4.1)\n",
      "Requirement already satisfied: nvidia-cufft-cu12==11.3.0.4 in /home/dertyxx/Documents/stage/network-sniffer/venv/lib/python3.12/site-packages (from torch>=2.0.0->-r ../requirements.txt (line 8)) (11.3.0.4)\n",
      "Requirement already satisfied: nvidia-curand-cu12==10.3.7.77 in /home/dertyxx/Documents/stage/network-sniffer/venv/lib/python3.12/site-packages (from torch>=2.0.0->-r ../requirements.txt (line 8)) (10.3.7.77)\n",
      "Requirement already satisfied: nvidia-cusolver-cu12==11.7.1.2 in /home/dertyxx/Documents/stage/network-sniffer/venv/lib/python3.12/site-packages (from torch>=2.0.0->-r ../requirements.txt (line 8)) (11.7.1.2)\n",
      "Requirement already satisfied: nvidia-cusparse-cu12==12.5.4.2 in /home/dertyxx/Documents/stage/network-sniffer/venv/lib/python3.12/site-packages (from torch>=2.0.0->-r ../requirements.txt (line 8)) (12.5.4.2)\n",
      "Requirement already satisfied: nvidia-cusparselt-cu12==0.6.3 in /home/dertyxx/Documents/stage/network-sniffer/venv/lib/python3.12/site-packages (from torch>=2.0.0->-r ../requirements.txt (line 8)) (0.6.3)\n",
      "Requirement already satisfied: nvidia-nccl-cu12==2.26.2 in /home/dertyxx/Documents/stage/network-sniffer/venv/lib/python3.12/site-packages (from torch>=2.0.0->-r ../requirements.txt (line 8)) (2.26.2)\n",
      "Requirement already satisfied: nvidia-nvtx-cu12==12.6.77 in /home/dertyxx/Documents/stage/network-sniffer/venv/lib/python3.12/site-packages (from torch>=2.0.0->-r ../requirements.txt (line 8)) (12.6.77)\n",
      "Requirement already satisfied: nvidia-nvjitlink-cu12==12.6.85 in /home/dertyxx/Documents/stage/network-sniffer/venv/lib/python3.12/site-packages (from torch>=2.0.0->-r ../requirements.txt (line 8)) (12.6.85)\n",
      "Requirement already satisfied: nvidia-cufile-cu12==1.11.1.6 in /home/dertyxx/Documents/stage/network-sniffer/venv/lib/python3.12/site-packages (from torch>=2.0.0->-r ../requirements.txt (line 8)) (1.11.1.6)\n",
      "Requirement already satisfied: triton==3.3.1 in /home/dertyxx/Documents/stage/network-sniffer/venv/lib/python3.12/site-packages (from torch>=2.0.0->-r ../requirements.txt (line 8)) (3.3.1)\n",
      "Requirement already satisfied: hf-xet<2.0.0,>=1.1.3 in /home/dertyxx/Documents/stage/network-sniffer/venv/lib/python3.12/site-packages (from huggingface-hub<1.0,>=0.34.0->transformers>=4.30.0->-r ../requirements.txt (line 7)) (1.1.5)\n",
      "Requirement already satisfied: six>=1.5 in /home/dertyxx/Documents/stage/network-sniffer/venv/lib/python3.12/site-packages (from python-dateutil>=2.8.2->pandas->-r ../requirements.txt (line 2)) (1.17.0)\n",
      "Requirement already satisfied: mpmath<1.4,>=1.1.0 in /home/dertyxx/Documents/stage/network-sniffer/venv/lib/python3.12/site-packages (from sympy>=1.13.3->torch>=2.0.0->-r ../requirements.txt (line 8)) (1.3.0)\n",
      "Requirement already satisfied: comm>=0.1.1 in /home/dertyxx/Documents/stage/network-sniffer/venv/lib/python3.12/site-packages (from ipykernel->jupyter>=1.0.0->-r ../requirements.txt (line 4)) (0.2.3)\n",
      "Requirement already satisfied: debugpy>=1.6.5 in /home/dertyxx/Documents/stage/network-sniffer/venv/lib/python3.12/site-packages (from ipykernel->jupyter>=1.0.0->-r ../requirements.txt (line 4)) (1.8.15)\n",
      "Requirement already satisfied: ipython>=7.23.1 in /home/dertyxx/Documents/stage/network-sniffer/venv/lib/python3.12/site-packages (from ipykernel->jupyter>=1.0.0->-r ../requirements.txt (line 4)) (9.4.0)\n",
      "Requirement already satisfied: jupyter-client>=8.0.0 in /home/dertyxx/Documents/stage/network-sniffer/venv/lib/python3.12/site-packages (from ipykernel->jupyter>=1.0.0->-r ../requirements.txt (line 4)) (8.6.3)\n",
      "Requirement already satisfied: jupyter-core!=5.0.*,>=4.12 in /home/dertyxx/Documents/stage/network-sniffer/venv/lib/python3.12/site-packages (from ipykernel->jupyter>=1.0.0->-r ../requirements.txt (line 4)) (5.8.1)\n",
      "Requirement already satisfied: matplotlib-inline>=0.1 in /home/dertyxx/Documents/stage/network-sniffer/venv/lib/python3.12/site-packages (from ipykernel->jupyter>=1.0.0->-r ../requirements.txt (line 4)) (0.1.7)\n",
      "Requirement already satisfied: nest-asyncio>=1.4 in /home/dertyxx/Documents/stage/network-sniffer/venv/lib/python3.12/site-packages (from ipykernel->jupyter>=1.0.0->-r ../requirements.txt (line 4)) (1.6.0)\n",
      "Requirement already satisfied: psutil>=5.7 in /home/dertyxx/Documents/stage/network-sniffer/venv/lib/python3.12/site-packages (from ipykernel->jupyter>=1.0.0->-r ../requirements.txt (line 4)) (7.0.0)\n",
      "Requirement already satisfied: pyzmq>=25 in /home/dertyxx/Documents/stage/network-sniffer/venv/lib/python3.12/site-packages (from ipykernel->jupyter>=1.0.0->-r ../requirements.txt (line 4)) (27.0.0)\n",
      "Requirement already satisfied: tornado>=6.2 in /home/dertyxx/Documents/stage/network-sniffer/venv/lib/python3.12/site-packages (from ipykernel->jupyter>=1.0.0->-r ../requirements.txt (line 4)) (6.5.1)\n",
      "Requirement already satisfied: traitlets>=5.4.0 in /home/dertyxx/Documents/stage/network-sniffer/venv/lib/python3.12/site-packages (from ipykernel->jupyter>=1.0.0->-r ../requirements.txt (line 4)) (5.14.3)\n",
      "Requirement already satisfied: widgetsnbextension~=4.0.14 in /home/dertyxx/Documents/stage/network-sniffer/venv/lib/python3.12/site-packages (from ipywidgets->jupyter>=1.0.0->-r ../requirements.txt (line 4)) (4.0.14)\n",
      "Requirement already satisfied: jupyterlab_widgets~=3.0.15 in /home/dertyxx/Documents/stage/network-sniffer/venv/lib/python3.12/site-packages (from ipywidgets->jupyter>=1.0.0->-r ../requirements.txt (line 4)) (3.0.15)\n",
      "Requirement already satisfied: MarkupSafe>=2.0 in /home/dertyxx/Documents/stage/network-sniffer/venv/lib/python3.12/site-packages (from jinja2->torch>=2.0.0->-r ../requirements.txt (line 8)) (3.0.2)\n",
      "Requirement already satisfied: prompt-toolkit>=3.0.30 in /home/dertyxx/Documents/stage/network-sniffer/venv/lib/python3.12/site-packages (from jupyter-console->jupyter>=1.0.0->-r ../requirements.txt (line 4)) (3.0.51)\n",
      "Requirement already satisfied: pygments in /home/dertyxx/Documents/stage/network-sniffer/venv/lib/python3.12/site-packages (from jupyter-console->jupyter>=1.0.0->-r ../requirements.txt (line 4)) (2.19.2)\n",
      "Requirement already satisfied: async-lru>=1.0.0 in /home/dertyxx/Documents/stage/network-sniffer/venv/lib/python3.12/site-packages (from jupyterlab->jupyter>=1.0.0->-r ../requirements.txt (line 4)) (2.0.5)\n",
      "Requirement already satisfied: httpx>=0.25.0 in /home/dertyxx/Documents/stage/network-sniffer/venv/lib/python3.12/site-packages (from jupyterlab->jupyter>=1.0.0->-r ../requirements.txt (line 4)) (0.28.1)\n",
      "Requirement already satisfied: jupyter-lsp>=2.0.0 in /home/dertyxx/Documents/stage/network-sniffer/venv/lib/python3.12/site-packages (from jupyterlab->jupyter>=1.0.0->-r ../requirements.txt (line 4)) (2.2.6)\n",
      "Requirement already satisfied: jupyter-server<3,>=2.4.0 in /home/dertyxx/Documents/stage/network-sniffer/venv/lib/python3.12/site-packages (from jupyterlab->jupyter>=1.0.0->-r ../requirements.txt (line 4)) (2.16.0)\n",
      "Requirement already satisfied: jupyterlab-server<3,>=2.27.1 in /home/dertyxx/Documents/stage/network-sniffer/venv/lib/python3.12/site-packages (from jupyterlab->jupyter>=1.0.0->-r ../requirements.txt (line 4)) (2.27.3)\n",
      "Requirement already satisfied: notebook-shim>=0.2 in /home/dertyxx/Documents/stage/network-sniffer/venv/lib/python3.12/site-packages (from jupyterlab->jupyter>=1.0.0->-r ../requirements.txt (line 4)) (0.2.4)\n",
      "Requirement already satisfied: beautifulsoup4 in /home/dertyxx/Documents/stage/network-sniffer/venv/lib/python3.12/site-packages (from nbconvert->jupyter>=1.0.0->-r ../requirements.txt (line 4)) (4.13.4)\n",
      "Requirement already satisfied: bleach!=5.0.0 in /home/dertyxx/Documents/stage/network-sniffer/venv/lib/python3.12/site-packages (from bleach[css]!=5.0.0->nbconvert->jupyter>=1.0.0->-r ../requirements.txt (line 4)) (6.2.0)\n",
      "Requirement already satisfied: defusedxml in /home/dertyxx/Documents/stage/network-sniffer/venv/lib/python3.12/site-packages (from nbconvert->jupyter>=1.0.0->-r ../requirements.txt (line 4)) (0.7.1)\n",
      "Requirement already satisfied: jupyterlab-pygments in /home/dertyxx/Documents/stage/network-sniffer/venv/lib/python3.12/site-packages (from nbconvert->jupyter>=1.0.0->-r ../requirements.txt (line 4)) (0.3.0)\n",
      "Requirement already satisfied: mistune<4,>=2.0.3 in /home/dertyxx/Documents/stage/network-sniffer/venv/lib/python3.12/site-packages (from nbconvert->jupyter>=1.0.0->-r ../requirements.txt (line 4)) (3.1.3)\n",
      "Requirement already satisfied: nbclient>=0.5.0 in /home/dertyxx/Documents/stage/network-sniffer/venv/lib/python3.12/site-packages (from nbconvert->jupyter>=1.0.0->-r ../requirements.txt (line 4)) (0.10.2)\n",
      "Requirement already satisfied: nbformat>=5.7 in /home/dertyxx/Documents/stage/network-sniffer/venv/lib/python3.12/site-packages (from nbconvert->jupyter>=1.0.0->-r ../requirements.txt (line 4)) (5.10.4)\n",
      "Requirement already satisfied: pandocfilters>=1.4.1 in /home/dertyxx/Documents/stage/network-sniffer/venv/lib/python3.12/site-packages (from nbconvert->jupyter>=1.0.0->-r ../requirements.txt (line 4)) (1.5.1)\n",
      "Requirement already satisfied: charset_normalizer<4,>=2 in /home/dertyxx/Documents/stage/network-sniffer/venv/lib/python3.12/site-packages (from requests->transformers>=4.30.0->-r ../requirements.txt (line 7)) (3.4.2)\n",
      "Requirement already satisfied: idna<4,>=2.5 in /home/dertyxx/Documents/stage/network-sniffer/venv/lib/python3.12/site-packages (from requests->transformers>=4.30.0->-r ../requirements.txt (line 7)) (3.10)\n",
      "Requirement already satisfied: urllib3<3,>=1.21.1 in /home/dertyxx/Documents/stage/network-sniffer/venv/lib/python3.12/site-packages (from requests->transformers>=4.30.0->-r ../requirements.txt (line 7)) (2.5.0)\n",
      "Requirement already satisfied: certifi>=2017.4.17 in /home/dertyxx/Documents/stage/network-sniffer/venv/lib/python3.12/site-packages (from requests->transformers>=4.30.0->-r ../requirements.txt (line 7)) (2025.7.14)\n",
      "Requirement already satisfied: webencodings in /home/dertyxx/Documents/stage/network-sniffer/venv/lib/python3.12/site-packages (from bleach!=5.0.0->bleach[css]!=5.0.0->nbconvert->jupyter>=1.0.0->-r ../requirements.txt (line 4)) (0.5.1)\n",
      "Requirement already satisfied: tinycss2<1.5,>=1.1.0 in /home/dertyxx/Documents/stage/network-sniffer/venv/lib/python3.12/site-packages (from bleach[css]!=5.0.0->nbconvert->jupyter>=1.0.0->-r ../requirements.txt (line 4)) (1.4.0)\n",
      "Requirement already satisfied: anyio in /home/dertyxx/Documents/stage/network-sniffer/venv/lib/python3.12/site-packages (from httpx>=0.25.0->jupyterlab->jupyter>=1.0.0->-r ../requirements.txt (line 4)) (4.9.0)\n",
      "Requirement already satisfied: httpcore==1.* in /home/dertyxx/Documents/stage/network-sniffer/venv/lib/python3.12/site-packages (from httpx>=0.25.0->jupyterlab->jupyter>=1.0.0->-r ../requirements.txt (line 4)) (1.0.9)\n",
      "Requirement already satisfied: h11>=0.16 in /home/dertyxx/Documents/stage/network-sniffer/venv/lib/python3.12/site-packages (from httpcore==1.*->httpx>=0.25.0->jupyterlab->jupyter>=1.0.0->-r ../requirements.txt (line 4)) (0.16.0)\n",
      "Requirement already satisfied: decorator in /home/dertyxx/Documents/stage/network-sniffer/venv/lib/python3.12/site-packages (from ipython>=7.23.1->ipykernel->jupyter>=1.0.0->-r ../requirements.txt (line 4)) (5.2.1)\n",
      "Requirement already satisfied: ipython-pygments-lexers in /home/dertyxx/Documents/stage/network-sniffer/venv/lib/python3.12/site-packages (from ipython>=7.23.1->ipykernel->jupyter>=1.0.0->-r ../requirements.txt (line 4)) (1.1.1)\n",
      "Requirement already satisfied: jedi>=0.16 in /home/dertyxx/Documents/stage/network-sniffer/venv/lib/python3.12/site-packages (from ipython>=7.23.1->ipykernel->jupyter>=1.0.0->-r ../requirements.txt (line 4)) (0.19.2)\n",
      "Requirement already satisfied: pexpect>4.3 in /home/dertyxx/Documents/stage/network-sniffer/venv/lib/python3.12/site-packages (from ipython>=7.23.1->ipykernel->jupyter>=1.0.0->-r ../requirements.txt (line 4)) (4.9.0)\n",
      "Requirement already satisfied: stack_data in /home/dertyxx/Documents/stage/network-sniffer/venv/lib/python3.12/site-packages (from ipython>=7.23.1->ipykernel->jupyter>=1.0.0->-r ../requirements.txt (line 4)) (0.6.3)\n",
      "Requirement already satisfied: platformdirs>=2.5 in /home/dertyxx/Documents/stage/network-sniffer/venv/lib/python3.12/site-packages (from jupyter-core!=5.0.*,>=4.12->ipykernel->jupyter>=1.0.0->-r ../requirements.txt (line 4)) (4.3.8)\n",
      "Requirement already satisfied: argon2-cffi>=21.1 in /home/dertyxx/Documents/stage/network-sniffer/venv/lib/python3.12/site-packages (from jupyter-server<3,>=2.4.0->jupyterlab->jupyter>=1.0.0->-r ../requirements.txt (line 4)) (25.1.0)\n",
      "Requirement already satisfied: jupyter-events>=0.11.0 in /home/dertyxx/Documents/stage/network-sniffer/venv/lib/python3.12/site-packages (from jupyter-server<3,>=2.4.0->jupyterlab->jupyter>=1.0.0->-r ../requirements.txt (line 4)) (0.12.0)\n",
      "Requirement already satisfied: jupyter-server-terminals>=0.4.4 in /home/dertyxx/Documents/stage/network-sniffer/venv/lib/python3.12/site-packages (from jupyter-server<3,>=2.4.0->jupyterlab->jupyter>=1.0.0->-r ../requirements.txt (line 4)) (0.5.3)\n",
      "Requirement already satisfied: overrides>=5.0 in /home/dertyxx/Documents/stage/network-sniffer/venv/lib/python3.12/site-packages (from jupyter-server<3,>=2.4.0->jupyterlab->jupyter>=1.0.0->-r ../requirements.txt (line 4)) (7.7.0)\n",
      "Requirement already satisfied: prometheus-client>=0.9 in /home/dertyxx/Documents/stage/network-sniffer/venv/lib/python3.12/site-packages (from jupyter-server<3,>=2.4.0->jupyterlab->jupyter>=1.0.0->-r ../requirements.txt (line 4)) (0.22.1)\n",
      "Requirement already satisfied: send2trash>=1.8.2 in /home/dertyxx/Documents/stage/network-sniffer/venv/lib/python3.12/site-packages (from jupyter-server<3,>=2.4.0->jupyterlab->jupyter>=1.0.0->-r ../requirements.txt (line 4)) (1.8.3)\n",
      "Requirement already satisfied: terminado>=0.8.3 in /home/dertyxx/Documents/stage/network-sniffer/venv/lib/python3.12/site-packages (from jupyter-server<3,>=2.4.0->jupyterlab->jupyter>=1.0.0->-r ../requirements.txt (line 4)) (0.18.1)\n",
      "Requirement already satisfied: websocket-client>=1.7 in /home/dertyxx/Documents/stage/network-sniffer/venv/lib/python3.12/site-packages (from jupyter-server<3,>=2.4.0->jupyterlab->jupyter>=1.0.0->-r ../requirements.txt (line 4)) (1.8.0)\n",
      "Requirement already satisfied: babel>=2.10 in /home/dertyxx/Documents/stage/network-sniffer/venv/lib/python3.12/site-packages (from jupyterlab-server<3,>=2.27.1->jupyterlab->jupyter>=1.0.0->-r ../requirements.txt (line 4)) (2.17.0)\n",
      "Requirement already satisfied: json5>=0.9.0 in /home/dertyxx/Documents/stage/network-sniffer/venv/lib/python3.12/site-packages (from jupyterlab-server<3,>=2.27.1->jupyterlab->jupyter>=1.0.0->-r ../requirements.txt (line 4)) (0.12.0)\n",
      "Requirement already satisfied: jsonschema>=4.18.0 in /home/dertyxx/Documents/stage/network-sniffer/venv/lib/python3.12/site-packages (from jupyterlab-server<3,>=2.27.1->jupyterlab->jupyter>=1.0.0->-r ../requirements.txt (line 4)) (4.25.0)\n",
      "Requirement already satisfied: fastjsonschema>=2.15 in /home/dertyxx/Documents/stage/network-sniffer/venv/lib/python3.12/site-packages (from nbformat>=5.7->nbconvert->jupyter>=1.0.0->-r ../requirements.txt (line 4)) (2.21.1)\n",
      "Requirement already satisfied: wcwidth in /home/dertyxx/Documents/stage/network-sniffer/venv/lib/python3.12/site-packages (from prompt-toolkit>=3.0.30->jupyter-console->jupyter>=1.0.0->-r ../requirements.txt (line 4)) (0.2.13)\n",
      "Requirement already satisfied: soupsieve>1.2 in /home/dertyxx/Documents/stage/network-sniffer/venv/lib/python3.12/site-packages (from beautifulsoup4->nbconvert->jupyter>=1.0.0->-r ../requirements.txt (line 4)) (2.7)\n",
      "Requirement already satisfied: sniffio>=1.1 in /home/dertyxx/Documents/stage/network-sniffer/venv/lib/python3.12/site-packages (from anyio->httpx>=0.25.0->jupyterlab->jupyter>=1.0.0->-r ../requirements.txt (line 4)) (1.3.1)\n",
      "Requirement already satisfied: argon2-cffi-bindings in /home/dertyxx/Documents/stage/network-sniffer/venv/lib/python3.12/site-packages (from argon2-cffi>=21.1->jupyter-server<3,>=2.4.0->jupyterlab->jupyter>=1.0.0->-r ../requirements.txt (line 4)) (21.2.0)\n",
      "Requirement already satisfied: parso<0.9.0,>=0.8.4 in /home/dertyxx/Documents/stage/network-sniffer/venv/lib/python3.12/site-packages (from jedi>=0.16->ipython>=7.23.1->ipykernel->jupyter>=1.0.0->-r ../requirements.txt (line 4)) (0.8.4)\n",
      "Requirement already satisfied: attrs>=22.2.0 in /home/dertyxx/Documents/stage/network-sniffer/venv/lib/python3.12/site-packages (from jsonschema>=4.18.0->jupyterlab-server<3,>=2.27.1->jupyterlab->jupyter>=1.0.0->-r ../requirements.txt (line 4)) (25.3.0)\n",
      "Requirement already satisfied: jsonschema-specifications>=2023.03.6 in /home/dertyxx/Documents/stage/network-sniffer/venv/lib/python3.12/site-packages (from jsonschema>=4.18.0->jupyterlab-server<3,>=2.27.1->jupyterlab->jupyter>=1.0.0->-r ../requirements.txt (line 4)) (2025.4.1)\n",
      "Requirement already satisfied: referencing>=0.28.4 in /home/dertyxx/Documents/stage/network-sniffer/venv/lib/python3.12/site-packages (from jsonschema>=4.18.0->jupyterlab-server<3,>=2.27.1->jupyterlab->jupyter>=1.0.0->-r ../requirements.txt (line 4)) (0.36.2)\n",
      "Requirement already satisfied: rpds-py>=0.7.1 in /home/dertyxx/Documents/stage/network-sniffer/venv/lib/python3.12/site-packages (from jsonschema>=4.18.0->jupyterlab-server<3,>=2.27.1->jupyterlab->jupyter>=1.0.0->-r ../requirements.txt (line 4)) (0.26.0)\n",
      "Requirement already satisfied: python-json-logger>=2.0.4 in /home/dertyxx/Documents/stage/network-sniffer/venv/lib/python3.12/site-packages (from jupyter-events>=0.11.0->jupyter-server<3,>=2.4.0->jupyterlab->jupyter>=1.0.0->-r ../requirements.txt (line 4)) (3.3.0)\n",
      "Requirement already satisfied: rfc3339-validator in /home/dertyxx/Documents/stage/network-sniffer/venv/lib/python3.12/site-packages (from jupyter-events>=0.11.0->jupyter-server<3,>=2.4.0->jupyterlab->jupyter>=1.0.0->-r ../requirements.txt (line 4)) (0.1.4)\n",
      "Requirement already satisfied: rfc3986-validator>=0.1.1 in /home/dertyxx/Documents/stage/network-sniffer/venv/lib/python3.12/site-packages (from jupyter-events>=0.11.0->jupyter-server<3,>=2.4.0->jupyterlab->jupyter>=1.0.0->-r ../requirements.txt (line 4)) (0.1.1)\n",
      "Requirement already satisfied: ptyprocess>=0.5 in /home/dertyxx/Documents/stage/network-sniffer/venv/lib/python3.12/site-packages (from pexpect>4.3->ipython>=7.23.1->ipykernel->jupyter>=1.0.0->-r ../requirements.txt (line 4)) (0.7.0)\n",
      "Requirement already satisfied: executing>=1.2.0 in /home/dertyxx/Documents/stage/network-sniffer/venv/lib/python3.12/site-packages (from stack_data->ipython>=7.23.1->ipykernel->jupyter>=1.0.0->-r ../requirements.txt (line 4)) (2.2.0)\n",
      "Requirement already satisfied: asttokens>=2.1.0 in /home/dertyxx/Documents/stage/network-sniffer/venv/lib/python3.12/site-packages (from stack_data->ipython>=7.23.1->ipykernel->jupyter>=1.0.0->-r ../requirements.txt (line 4)) (3.0.0)\n",
      "Requirement already satisfied: pure-eval in /home/dertyxx/Documents/stage/network-sniffer/venv/lib/python3.12/site-packages (from stack_data->ipython>=7.23.1->ipykernel->jupyter>=1.0.0->-r ../requirements.txt (line 4)) (0.2.3)\n",
      "Requirement already satisfied: fqdn in /home/dertyxx/Documents/stage/network-sniffer/venv/lib/python3.12/site-packages (from jsonschema[format-nongpl]>=4.18.0->jupyter-events>=0.11.0->jupyter-server<3,>=2.4.0->jupyterlab->jupyter>=1.0.0->-r ../requirements.txt (line 4)) (1.5.1)\n",
      "Requirement already satisfied: isoduration in /home/dertyxx/Documents/stage/network-sniffer/venv/lib/python3.12/site-packages (from jsonschema[format-nongpl]>=4.18.0->jupyter-events>=0.11.0->jupyter-server<3,>=2.4.0->jupyterlab->jupyter>=1.0.0->-r ../requirements.txt (line 4)) (20.11.0)\n",
      "Requirement already satisfied: jsonpointer>1.13 in /home/dertyxx/Documents/stage/network-sniffer/venv/lib/python3.12/site-packages (from jsonschema[format-nongpl]>=4.18.0->jupyter-events>=0.11.0->jupyter-server<3,>=2.4.0->jupyterlab->jupyter>=1.0.0->-r ../requirements.txt (line 4)) (3.0.0)\n",
      "Requirement already satisfied: rfc3987-syntax>=1.1.0 in /home/dertyxx/Documents/stage/network-sniffer/venv/lib/python3.12/site-packages (from jsonschema[format-nongpl]>=4.18.0->jupyter-events>=0.11.0->jupyter-server<3,>=2.4.0->jupyterlab->jupyter>=1.0.0->-r ../requirements.txt (line 4)) (1.1.0)\n",
      "Requirement already satisfied: uri-template in /home/dertyxx/Documents/stage/network-sniffer/venv/lib/python3.12/site-packages (from jsonschema[format-nongpl]>=4.18.0->jupyter-events>=0.11.0->jupyter-server<3,>=2.4.0->jupyterlab->jupyter>=1.0.0->-r ../requirements.txt (line 4)) (1.3.0)\n",
      "Requirement already satisfied: webcolors>=24.6.0 in /home/dertyxx/Documents/stage/network-sniffer/venv/lib/python3.12/site-packages (from jsonschema[format-nongpl]>=4.18.0->jupyter-events>=0.11.0->jupyter-server<3,>=2.4.0->jupyterlab->jupyter>=1.0.0->-r ../requirements.txt (line 4)) (24.11.1)\n",
      "Requirement already satisfied: cffi>=1.0.1 in /home/dertyxx/Documents/stage/network-sniffer/venv/lib/python3.12/site-packages (from argon2-cffi-bindings->argon2-cffi>=21.1->jupyter-server<3,>=2.4.0->jupyterlab->jupyter>=1.0.0->-r ../requirements.txt (line 4)) (1.17.1)\n",
      "Requirement already satisfied: pycparser in /home/dertyxx/Documents/stage/network-sniffer/venv/lib/python3.12/site-packages (from cffi>=1.0.1->argon2-cffi-bindings->argon2-cffi>=21.1->jupyter-server<3,>=2.4.0->jupyterlab->jupyter>=1.0.0->-r ../requirements.txt (line 4)) (2.22)\n",
      "Requirement already satisfied: lark>=1.2.2 in /home/dertyxx/Documents/stage/network-sniffer/venv/lib/python3.12/site-packages (from rfc3987-syntax>=1.1.0->jsonschema[format-nongpl]>=4.18.0->jupyter-events>=0.11.0->jupyter-server<3,>=2.4.0->jupyterlab->jupyter>=1.0.0->-r ../requirements.txt (line 4)) (1.2.2)\n",
      "Requirement already satisfied: arrow>=0.15.0 in /home/dertyxx/Documents/stage/network-sniffer/venv/lib/python3.12/site-packages (from isoduration->jsonschema[format-nongpl]>=4.18.0->jupyter-events>=0.11.0->jupyter-server<3,>=2.4.0->jupyterlab->jupyter>=1.0.0->-r ../requirements.txt (line 4)) (1.3.0)\n",
      "Requirement already satisfied: types-python-dateutil>=2.8.10 in /home/dertyxx/Documents/stage/network-sniffer/venv/lib/python3.12/site-packages (from arrow>=0.15.0->isoduration->jsonschema[format-nongpl]>=4.18.0->jupyter-events>=0.11.0->jupyter-server<3,>=2.4.0->jupyterlab->jupyter>=1.0.0->-r ../requirements.txt (line 4)) (2.9.0.20250708)\n",
      "Note: you may need to restart the kernel to use updated packages.\n",
      "Installation terminée !\n"
     ]
    }
   ],
   "source": [
    "print(\"Installation des bibliothèques\")\n",
    "\n",
    "# Installer les bibliothèques pour le machine learning et DistilBERT\n",
    "%pip install -r ../requirements.txt\n",
    "\n",
    "# Vérifier que tout est bien installé\n",
    "print(\"Installation terminée !\")"
   ]
  },
  {
   "cell_type": "markdown",
   "id": "99b6b74a",
   "metadata": {},
   "source": [
    "# Importation des bibliothèques"
   ]
  },
  {
   "cell_type": "code",
   "execution_count": 3,
   "id": "936ff472",
   "metadata": {},
   "outputs": [
    {
     "name": "stdout",
     "output_type": "stream",
     "text": [
      "Toutes les bibliothèques sont importées !\n"
     ]
    }
   ],
   "source": [
    "import pandas as pd  # Pour manipuler les données\n",
    "import numpy as np   # Pour les calculs\n",
    "import torch        # La base pour faire du deep learning et du machine learning\n",
    "import matplotlib.pyplot as plt  # Pour faire des graphiques\n",
    "import seaborn as sns           # Pour faire des graphiques\n",
    "\n",
    "\n",
    "# Bibliothèques pour DistilBERT\n",
    "from transformers import (\n",
    "    DistilBertTokenizer,    # Pour convertir le texte en nombres\n",
    "    DistilBertForSequenceClassification,  # Le modèle DistilBERT pour classifier les séquences\n",
    "    TrainingArguments,      # Les paramètres d'entraînement\n",
    "    Trainer                 # Pour entraîner le modèle facilement\n",
    ")\n",
    "\n",
    "\n",
    "# Bibliothèques pour préparer les données\n",
    "from sklearn.model_selection import train_test_split  # Pour diviser les données en train et test\n",
    "from sklearn.metrics import accuracy_score, classification_report, confusion_matrix # Pour évaluer le modèle\n",
    "from torch.utils.data import Dataset  # Pour créer un dataset personnalisé\n",
    "\n",
    "print(\"Toutes les bibliothèques sont importées !\")"
   ]
  },
  {
   "cell_type": "markdown",
   "id": "27f57e3f",
   "metadata": {},
   "source": [
    "# Chargement et exploration des données"
   ]
  },
  {
   "cell_type": "code",
   "execution_count": 5,
   "id": "40f77542",
   "metadata": {},
   "outputs": [
    {
     "name": "stdout",
     "output_type": "stream",
     "text": [
      "Données chargées ! Il y'a 18650 emails au total\n",
      "Colonnes disponibles : ['Unnamed: 0', 'Email Text', 'Email Type']\n",
      "\n",
      "Aperçu des données :\n",
      "   Unnamed: 0                                         Email Text  \\\n",
      "0           0  re : 6 . 1100 , disc : uniformitarianism , re ...   \n",
      "1           1  the other side of * galicismos * * galicismo *...   \n",
      "2           2  re : equistar deal tickets are you still avail...   \n",
      "3           3  \\nHello I am your hot lil horny toy.\\n    I am...   \n",
      "4           4  software at incredibly low prices ( 86 % lower...   \n",
      "\n",
      "       Email Type  \n",
      "0      Safe Email  \n",
      "1      Safe Email  \n",
      "2      Safe Email  \n",
      "3  Phishing Email  \n",
      "4  Phishing Email  \n",
      "\n",
      "Répartition des types d'emails :\n",
      "Email Type\n",
      "Safe Email        11322\n",
      "Phishing Email     7328\n",
      "Name: count, dtype: int64\n"
     ]
    },
    {
     "data": {
      "image/png": "[encoded data removed]",
      "text/plain": [
       "<Figure size 800x600 with 1 Axes>"
      ]
     },
     "metadata": {},
     "output_type": "display_data"
    }
   ],
   "source": [
    "# Charger le fichier CSV\n",
    "df = pd.read_csv('~/Documents/phishing-email-detector/data/Phishing_Email.csv')\n",
    "print(f\"Données chargées ! Il y'a {len(df)} emails au total\")\n",
    "print(f\"Colonnes disponibles : {list(df.columns)}\")\n",
    "\n",
    "# Regarder les premières lignes\n",
    "print(\"\\nAperçu des données :\")\n",
    "print(df.head())\n",
    "\n",
    "# Vérifier la répartition des classes\n",
    "print(\"\\nRépartition des types d'emails :\")\n",
    "class_counts = df['Email Type'].value_counts()\n",
    "print(class_counts)\n",
    "unique_class_count = class_counts.index.tolist()\n",
    "\n",
    "# Define a custom color map \n",
    "color_map = {\n",
    "    'Phishing Email': 'red',\n",
    "    'Safe Email': 'green',}\n",
    "\n",
    "\n",
    "# Créer un graphique pour visualiser la répartition\n",
    "plt.figure(figsize=(8, 6))\n",
    "sns.countplot(data=df, x='Email Type', hue='Email Type', palette=color_map, legend=False) \n",
    "plt.xlabel('Type d\\'Email')\n",
    "plt.ylabel('Nombre d\\'Emails')\n",
    "plt.tight_layout()\n",
    "plt.show()"
   ]
  },
  {
   "cell_type": "markdown",
   "id": "9cc1bf86",
   "metadata": {},
   "source": [
    "# Préparation des données"
   ]
  },
  {
   "cell_type": "code",
   "execution_count": 31,
   "id": "54f49004",
   "metadata": {},
   "outputs": [
    {
     "name": "stdout",
     "output_type": "stream",
     "text": [
      "cellules vides supprimées : 0\n",
      "Conversion des labels :\n",
      "Safe Email → 0\n",
      "Phishing Email → 1\n",
      "\n",
      "Répartition après conversion :\n",
      "label\n",
      "0    11322\n",
      "1     7312\n",
      "Name: count, dtype: int64\n",
      "18634 emails prêts pour l'entraînement !\n"
     ]
    }
   ],
   "source": [
    "# Nettoyer les données (supprimer les valeurs manquantes)\n",
    "a = df.isnull().sum().sum()\n",
    "df = df.dropna()\n",
    "print(f\"cellules vides supprimées : {a - df.isnull().sum().sum()}\")\n",
    "\n",
    "# Convertir les labels en nombres\n",
    "# Safe Email = 0, Phishing Email = 1\n",
    "label_mapping = {'Safe Email': 0, 'Phishing Email': 1}\n",
    "df['label'] = df['Email Type'].map(label_mapping)\n",
    "\n",
    "print(\"Conversion des labels :\")\n",
    "print(\"Safe Email → 0\")\n",
    "print(\"Phishing Email → 1\")\n",
    "\n",
    "# Vérifier la conversion\n",
    "print(f\"\\nRépartition après conversion :\")\n",
    "print(df['label'].value_counts())\n",
    "\n",
    "# Préparer les textes et les labels\n",
    "texts = df['Email Text'].tolist()\n",
    "labels = df['label'].tolist()\n",
    "\n",
    "print(f\"{len(texts)} emails prêts pour l'entraînement !\")\n"
   ]
  },
  {
   "cell_type": "markdown",
   "id": "e81698b1",
   "metadata": {},
   "source": [
    "# Division des données\n",
    "\n",
    "- Train (70%) : Pour entrainer le modèle\n",
    "- Validation (15%) : Pour ajuster les paramètres pendant l'entraînement\n",
    "- Test (15%) : Pour évaluer les performances finales (données jamais vues)"
   ]
  },
  {
   "cell_type": "code",
   "execution_count": 8,
   "id": "fc176ba2",
   "metadata": {},
   "outputs": [
    {
     "name": "stdout",
     "output_type": "stream",
     "text": [
      "Répartition des données :\n",
      "Entraînement : 13050 emails (70.0%)\n",
      "Validation : 2788 emails (15.0%)\n",
      "Test : 2796 emails (15.0%)\n"
     ]
    }
   ],
   "source": [
    "# Première division : 85% train+val, 15% test\n",
    "X_temp, X_test, y_temp, y_test = train_test_split(\n",
    "    texts, labels, test_size=0.15, random_state=42, stratify=labels\n",
    ")\n",
    "\n",
    "# Deuxième division : 70% train, 15% validation\n",
    "X_train, X_val, y_train, y_val = train_test_split(\n",
    "    X_temp, y_temp, test_size=0.176, random_state=42, stratify=y_temp\n",
    ")  # 0.176 * 0.85 ≈ 0.15\n",
    "\n",
    "print(f\"Répartition des données :\")\n",
    "print(f\"Entraînement : {len(X_train)} emails ({len(X_train)/len(texts)*100:.1f}%)\")\n",
    "print(f\"Validation : {len(X_val)} emails ({len(X_val)/len(texts)*100:.1f}%)\")\n",
    "print(f\"Test : {len(X_test)} emails ({len(X_test)/len(texts)*100:.1f}%)\")\n"
   ]
  },
  {
   "cell_type": "markdown",
   "id": "f822a55e",
   "metadata": {},
   "source": [
    "# Préparation de DistilBERT\n",
    "\n",
    "- Version \"légère\" de BERT (plus rapide, moins de mémoire)\n",
    "- Pré-entraîné sur énormément de textes\n",
    "- Comprend déjà bien le langage, on va juste l'adapter à notre tâche"
   ]
  },
  {
   "cell_type": "code",
   "execution_count": 9,
   "id": "9e84885b",
   "metadata": {},
   "outputs": [
    {
     "name": "stdout",
     "output_type": "stream",
     "text": [
      "Tokenizer chargé !\n"
     ]
    },
    {
     "name": "stderr",
     "output_type": "stream",
     "text": [
      "Some weights of DistilBertForSequenceClassification were not initialized from the model checkpoint at distilbert-base-uncased and are newly initialized: ['classifier.bias', 'classifier.weight', 'pre_classifier.bias', 'pre_classifier.weight']\n",
      "You should probably TRAIN this model on a down-stream task to be able to use it for predictions and inference.\n"
     ]
    },
    {
     "name": "stdout",
     "output_type": "stream",
     "text": [
      "Modèle DistilBERT chargé !\n"
     ]
    }
   ],
   "source": [
    "# Charger le tokenizer (convertit le texte en nombres)\n",
    "tokenizer = DistilBertTokenizer.from_pretrained('distilbert-base-uncased')\n",
    "print(\"Tokenizer chargé !\")\n",
    "\n",
    "# Charger le modèle pré-entraîné\n",
    "model = DistilBertForSequenceClassification.from_pretrained(\n",
    "    'distilbert-base-uncased',\n",
    "    num_labels=2  # 2 classes : Safe (0) et Phishing (1)\n",
    ")\n",
    "print(\"Modèle DistilBERT chargé !\")\n",
    "\n",
    "# Fonction pour encoder les textes\n",
    "def encode_texts(texts, tokenizer, max_length=512):\n",
    "    \"\"\"\n",
    "    Cette fonction convertit le texte en format que DistilBERT comprend\n",
    "\n",
    "    Args:\n",
    "        texts: Liste des textes à encoder\n",
    "        tokenizer: Le tokenizer DistilBERT\n",
    "        max_length: Longueur maximum du texte (512 tokens max pour DistilBERT)\n",
    "    \n",
    "    Returns:\n",
    "        Dictionnaire avec les encodages\n",
    "    \"\"\"\n",
    "    return tokenizer(\n",
    "        texts,\n",
    "        truncation=True,        # Couper si trop long\n",
    "        padding=True,           # Ajouter des 0 si trop court\n",
    "        max_length=max_length,  # Longueur maximum des séquences\n",
    "        return_tensors='pt'     # Retourner des tenseurs PyTorch\n",
    "    )"
   ]
  },
  {
   "cell_type": "markdown",
   "id": "b421e7bd",
   "metadata": {},
   "source": [
    "# Création du Dataset"
   ]
  },
  {
   "cell_type": "code",
   "execution_count": 11,
   "id": "94e2267e",
   "metadata": {},
   "outputs": [
    {
     "name": "stdout",
     "output_type": "stream",
     "text": [
      "Datasets créés !\n",
      "Dataset d'entraînement : 13050 mails\n",
      "Dataset de validation : 2788 mails\n",
      "Dataset de test : 2796 mails\n"
     ]
    }
   ],
   "source": [
    "class EmailDataset(Dataset):\n",
    "    \"\"\"\n",
    "    Classe pour organiser nos données de manière que DistilBERT comprenne\n",
    "    \"\"\"\n",
    "    \n",
    "    def __init__(self, texts, labels, tokenizer, max_length=512):\n",
    "        self.texts = texts\n",
    "        self.labels = labels\n",
    "        self.tokenizer = tokenizer\n",
    "        self.max_length = max_length\n",
    "    \n",
    "    def __len__(self):\n",
    "        return len(self.texts)\n",
    "    \n",
    "    def __getitem__(self, idx):\n",
    "        text = str(self.texts[idx])\n",
    "        label = self.labels[idx]\n",
    "        \n",
    "        # Encoder le texte\n",
    "        encoding = self.tokenizer(\n",
    "            text,\n",
    "            truncation=True,\n",
    "            padding='max_length',\n",
    "            max_length=self.max_length,\n",
    "            return_tensors='pt'\n",
    "        )\n",
    "        \n",
    "        return {\n",
    "            'input_ids': encoding['input_ids'].flatten(),\n",
    "            'attention_mask': encoding['attention_mask'].flatten(),\n",
    "            'labels': torch.tensor(label, dtype=torch.long)\n",
    "        }\n",
    "\n",
    "# Créer les datasets\n",
    "train_dataset = EmailDataset(X_train, y_train, tokenizer)\n",
    "val_dataset = EmailDataset(X_val, y_val, tokenizer)\n",
    "test_dataset = EmailDataset(X_test, y_test, tokenizer)\n",
    "\n",
    "print(f\"Datasets créés !\")\n",
    "print(f\"Dataset d'entraînement : {len(train_dataset)} mails\")\n",
    "print(f\"Dataset de validation : {len(val_dataset)} mails\")\n",
    "print(f\"Dataset de test : {len(test_dataset)} mails\")"
   ]
  },
  {
   "cell_type": "markdown",
   "id": "0c94b70b",
   "metadata": {},
   "source": [
    "# Configuration de l'entraînement"
   ]
  },
  {
   "cell_type": "code",
   "execution_count": 12,
   "id": "88482ba4",
   "metadata": {},
   "outputs": [
    {
     "name": "stdout",
     "output_type": "stream",
     "text": [
      "Configuration terminée !\n"
     ]
    }
   ],
   "source": [
    "training_args = TrainingArguments(\n",
    "    output_dir='./results',          # Dossier de sauvegarde\n",
    "    num_train_epochs=3,              # 3 époques (tours complets des données)\n",
    "    per_device_train_batch_size=16,  # 16 emails par batch\n",
    "    per_device_eval_batch_size=64,   # 64 emails pour l'évaluation\n",
    "    warmup_steps=500,                # 500 étapes d'échauffement\n",
    "    weight_decay=0.01,               # Régularisation (évite le surajustement)\n",
    "    logging_dir='./logs',            # Dossier des logs\n",
    "    logging_steps=50,                # Log toutes les 50 étapes\n",
    "    eval_strategy=\"epoch\",      # Évaluer à chaque époque\n",
    "    save_strategy=\"epoch\",           # Sauvegarder à chaque époque\n",
    "    load_best_model_at_end=True,     # Charger le meilleur modèle à la fin\n",
    "    metric_for_best_model=\"eval_loss\", # Métrique pour choisir le meilleur\n",
    "    learning_rate=2e-5,              # Vitesse d'apprentissage (2e-5 = standard pour BERT)\n",
    ")\n",
    "\n",
    "print(\"Configuration terminée !\")\n"
   ]
  },
  {
   "cell_type": "markdown",
   "id": "121c3a89",
   "metadata": {},
   "source": [
    "# Fonction d'évaluation"
   ]
  },
  {
   "cell_type": "code",
   "execution_count": 13,
   "id": "18d244d9",
   "metadata": {},
   "outputs": [],
   "source": [
    "def compute_metrics(eval_pred):\n",
    "    \"\"\"\n",
    "    Fonction pour calculer les métriques de performance\n",
    "    \n",
    "    Args:\n",
    "        eval_pred: Prédictions et vraies étiquettes\n",
    "    \n",
    "    Returns:\n",
    "        Dictionnaire avec les métriques\n",
    "    \"\"\"\n",
    "    predictions, labels = eval_pred\n",
    "    predictions = np.argmax(predictions, axis=1)\n",
    "    \n",
    "    accuracy = accuracy_score(labels, predictions)\n",
    "    \n",
    "    return {\n",
    "        'accuracy': accuracy,\n",
    "    }"
   ]
  },
  {
   "cell_type": "markdown",
   "id": "7354a964",
   "metadata": {},
   "source": [
    "# Création du Trainer"
   ]
  },
  {
   "cell_type": "code",
   "execution_count": 14,
   "id": "54d5785f",
   "metadata": {},
   "outputs": [
    {
     "name": "stdout",
     "output_type": "stream",
     "text": [
      "Trainer créé !\n"
     ]
    }
   ],
   "source": [
    "trainer = Trainer(\n",
    "    model=model,                         # Notre modèle DistilBERT\n",
    "    args=training_args,                  # Les paramètres d'entraînement\n",
    "    train_dataset=train_dataset,         # Données d'entraînement\n",
    "    eval_dataset=val_dataset,            # Données de validation\n",
    "    compute_metrics=compute_metrics,     # Fonction de calcul des métriques\n",
    ")\n",
    "\n",
    "print(\"Trainer créé !\")"
   ]
  },
  {
   "cell_type": "markdown",
   "id": "906678cb",
   "metadata": {},
   "source": [
    "# Entraînement du modèle\n",
    "\n",
    "Cette section lance l'entraînement du modèle. Cela peut prendre 10-30 minutes selon vos données."
   ]
  },
  {
   "cell_type": "code",
   "execution_count": 20,
   "id": "a6c4bf21",
   "metadata": {},
   "outputs": [
    {
     "name": "stdout",
     "output_type": "stream",
     "text": [
      "Entrainement du modèle\n"
     ]
    },
    {
     "data": {
      "text/html": [
       "\n",
       "    <div>\n",
       "      \n",
       "      <progress value='2448' max='2448' style='width:300px; height:20px; vertical-align: middle;'></progress>\n",
       "      [2448/2448 23:30, Epoch 3/3]\n",
       "    </div>\n",
       "    <table border=\"1\" class=\"dataframe\">\n",
       "  <thead>\n",
       " <tr style=\"text-align: left;\">\n",
       "      <th>Epoch</th>\n",
       "      <th>Training Loss</th>\n",
       "      <th>Validation Loss</th>\n",
       "      <th>Model Preparation Time</th>\n",
       "      <th>Accuracy</th>\n",
       "    </tr>\n",
       "  </thead>\n",
       "  <tbody>\n",
       "    <tr>\n",
       "      <td>1</td>\n",
       "      <td>0.086600</td>\n",
       "      <td>0.089240</td>\n",
       "      <td>0.004200</td>\n",
       "      <td>0.964849</td>\n",
       "    </tr>\n",
       "    <tr>\n",
       "      <td>2</td>\n",
       "      <td>0.055700</td>\n",
       "      <td>0.109493</td>\n",
       "      <td>0.004200</td>\n",
       "      <td>0.963056</td>\n",
       "    </tr>\n",
       "    <tr>\n",
       "      <td>3</td>\n",
       "      <td>0.013900</td>\n",
       "      <td>0.087758</td>\n",
       "      <td>0.004200</td>\n",
       "      <td>0.968436</td>\n",
       "    </tr>\n",
       "  </tbody>\n",
       "</table><p>"
      ],
      "text/plain": [
       "<IPython.core.display.HTML object>"
      ]
     },
     "metadata": {},
     "output_type": "display_data"
    },
    {
     "name": "stdout",
     "output_type": "stream",
     "text": [
      "\n",
      "Entrainement terminé !\n"
     ]
    }
   ],
   "source": [
    "print(\"Entrainement du modèle\")\n",
    "\n",
    "# Lancer l'entraînement\n",
    "trainer.train()\n",
    "\n",
    "print(\"\\nEntrainement terminé !\")"
   ]
  },
  {
   "cell_type": "markdown",
   "id": "2e5f2660",
   "metadata": {},
   "source": [
    "# Évaluation du modèle"
   ]
  },
  {
   "cell_type": "code",
   "execution_count": 21,
   "id": "5d25ba83",
   "metadata": {},
   "outputs": [
    {
     "data": {
      "text/html": [],
      "text/plain": [
       "<IPython.core.display.HTML object>"
      ]
     },
     "metadata": {},
     "output_type": "display_data"
    },
    {
     "name": "stdout",
     "output_type": "stream",
     "text": [
      "Précision sur les données de test : 0.9753 (97.53%)\n",
      "\n",
      "Rapport de classification détaillé :\n",
      "                precision    recall  f1-score   support\n",
      "\n",
      "    Safe Email       0.99      0.97      0.98      1699\n",
      "Phishing Email       0.96      0.98      0.97      1097\n",
      "\n",
      "      accuracy                           0.98      2796\n",
      "     macro avg       0.97      0.98      0.97      2796\n",
      "  weighted avg       0.98      0.98      0.98      2796\n",
      "\n",
      "\n",
      "Matrice de confusion :\n"
     ]
    },
    {
     "data": {
      "image/png": "[encoded data removed]",
      "text/plain": [
       "<Figure size 800x600 with 2 Axes>"
      ]
     },
     "metadata": {},
     "output_type": "display_data"
    }
   ],
   "source": [
    "# Faire des prédictions sur le set de test\n",
    "predictions = trainer.predict(test_dataset)\n",
    "y_pred = np.argmax(predictions.predictions, axis=1)\n",
    "\n",
    "# Calculer les métriques\n",
    "accuracy = accuracy_score(y_test, y_pred)\n",
    "print(f\"Précision sur les données de test : {accuracy:.4f} ({accuracy*100:.2f}%)\")\n",
    "\n",
    "# Rapport de classification détaillé\n",
    "print(\"\\nRapport de classification détaillé :\")\n",
    "target_names = ['Safe Email', 'Phishing Email']\n",
    "print(classification_report(y_test, y_pred, target_names=target_names))\n",
    "\n",
    "# Matrice de confusion\n",
    "print(\"\\nMatrice de confusion :\")\n",
    "cm = confusion_matrix(y_test, y_pred)\n",
    "plt.figure(figsize=(8, 6))\n",
    "sns.heatmap(cm, annot=True, fmt='d', cmap='Blues', \n",
    "            xticklabels=target_names, yticklabels=target_names)\n",
    "plt.title('Matrice de Confusion')\n",
    "plt.xlabel('Prédictions')\n",
    "plt.ylabel('Vraies Étiquettes')\n",
    "plt.tight_layout()\n",
    "plt.show()"
   ]
  },
  {
   "cell_type": "markdown",
   "id": "c63298ef",
   "metadata": {},
   "source": [
    "# Sauvegarde du modèle"
   ]
  },
  {
   "cell_type": "code",
   "execution_count": null,
   "id": "f7220c37",
   "metadata": {},
   "outputs": [
    {
     "name": "stdout",
     "output_type": "stream",
     "text": [
      "✅ Modèle sauvegardé dans : ./phishing-detector-model\n",
      "💡 Vous pouvez maintenant télécharger ce dossier et l'utiliser ailleurs !\n"
     ]
    }
   ],
   "source": [
    "# Sauvegarder le modèle et le tokenizer\n",
    "model_save_path = \"./phishing-detector-model\"\n",
    "trainer.save_model(model_save_path)\n",
    "tokenizer.save_pretrained(model_save_path)\n",
    "\n",
    "print(f\"Modèle sauvegardé dans : {model_save_path}\")"
   ]
  },
  {
   "cell_type": "markdown",
   "id": "eb95f4d6",
   "metadata": {},
   "source": [
    "# Test du modèle sur des exemples"
   ]
  },
  {
   "cell_type": "code",
   "execution_count": 30,
   "id": "07fa7fac",
   "metadata": {},
   "outputs": [
    {
     "name": "stdout",
     "output_type": "stream",
     "text": [
      "Test sur quelques exemples :\n",
      "\n",
      "Email 1:\n",
      "Texte: Dear Netflix Member,\n",
      "\n",
      "We're updating our subscription prices to continue bringin...\n",
      "Prédiction: Phishing Email\n",
      "Confiance: 0.9902 (99.02%)\n",
      "\n",
      "Email 2:\n",
      "Texte: URGENT SECURITY ALERT!!!\n",
      "\n",
      "We detected suspicious login attempts on your PayPal a...\n",
      "Prédiction: Phishing Email\n",
      "Confiance: 0.9995 (99.95%)\n",
      "\n",
      "Email 3:\n",
      "Texte: Hello Sarah,\n",
      "\n",
      "I've reviewed the Q2 marketing report you sent and everything look...\n",
      "Prédiction: Safe Email\n",
      "Confiance: 0.9997 (99.97%)\n",
      "\n",
      "Email 4:\n",
      "Texte: 🎉 Special Weekend Sale! 🎉\n",
      "\n",
      "Get 80% OFF on ALL Apple Products!\n",
      "- iPhone 15 Pro: O...\n",
      "Prédiction: Phishing Email\n",
      "Confiance: 0.9997 (99.97%)\n",
      "\n",
      "Email 5:\n",
      "Texte: Subject: Meeting Follow-up and Next Steps\n",
      "\n",
      "Hi team,\n",
      "\n",
      "Thank you all for your cont...\n",
      "Prédiction: Safe Email\n",
      "Confiance: 0.9998 (99.98%)\n",
      "\n",
      "Email 6:\n",
      "Texte: Subject: Reminder: Password Change Required by End of Month\n",
      "\n",
      "Dear Employee,\n",
      "\n",
      "As ...\n",
      "Prédiction: Safe Email\n",
      "Confiance: 0.9988 (99.88%)\n",
      "\n",
      "Email 7:\n",
      "Texte: Subject: Monthly Invoice from Your Utility Provider\n",
      "\n",
      "Hello,\n",
      "\n",
      "Please find attache...\n",
      "Prédiction: Safe Email\n",
      "Confiance: 0.8149 (81.49%)\n"
     ]
    }
   ],
   "source": [
    "import torch\n",
    "\n",
    "def predict_email(text, model, tokenizer, phishing_threshold=0.97, uncertain_threshold=0.90):\n",
    "    \"\"\"\n",
    "    Fonction pour prédire si un email est du phishing ou non, avec une gestion de l'incertitude.\n",
    "    \n",
    "    Args:\n",
    "        text: Le texte de l'email à analyser\n",
    "        model: Le modèle entraîné\n",
    "        tokenizer: Le tokenizer\n",
    "        phishing_threshold: Seuil à partir duquel on considère l'email comme phishing\n",
    "        uncertain_threshold: Zone tampon où l'email est jugé incertain (à vérifier manuellement)\n",
    "    \n",
    "    Returns:\n",
    "        Tuple (résultat, confiance)\n",
    "    \"\"\"\n",
    "    # Déterminer le device (CPU ou GPU)\n",
    "    device = next(model.parameters()).device\n",
    "\n",
    "    # Encoder le texte\n",
    "    inputs = tokenizer(\n",
    "        text,\n",
    "        return_tensors='pt',\n",
    "        truncation=True,\n",
    "        padding=True,\n",
    "        max_length=512\n",
    "    )\n",
    "\n",
    "    # Déplacer les inputs sur le bon device\n",
    "    inputs = {k: v.to(device) for k, v in inputs.items()}\n",
    "\n",
    "    # Prédiction\n",
    "    with torch.no_grad():\n",
    "        outputs = model(**inputs)\n",
    "        predictions = torch.nn.functional.softmax(outputs.logits, dim=-1)\n",
    "        probs = predictions[0]\n",
    "        phishing_prob = probs[1].item()\n",
    "        safe_prob = probs[0].item()\n",
    "\n",
    "        # Classification avec gestion de l'incertitude\n",
    "        if phishing_prob >= phishing_threshold:\n",
    "            result = \"Phishing Email\"\n",
    "            confidence = phishing_prob\n",
    "        elif phishing_prob >= uncertain_threshold:\n",
    "            result = \"Alerte modérée (à vérifier)\"\n",
    "            confidence = phishing_prob\n",
    "        else:\n",
    "            result = \"Safe Email\"\n",
    "            confidence = safe_prob\n",
    "\n",
    "    return result, confidence\n",
    "\n",
    "\n",
    "# ====================\n",
    "# Emails de test\n",
    "# ====================\n",
    "\n",
    "test_emails = [\n",
    "    \"\"\"Dear Netflix Member,\n",
    "\n",
    "We're updating our subscription prices to continue bringing you the best entertainment experience. Starting with your next billing date, your Premium plan will increase from $19.99 to $22.99 per month.\n",
    "\n",
    "As a valued member since 2021, you'll continue to enjoy:\n",
    "- Ultra HD streaming\n",
    "- Watch on 4 devices at once\n",
    "- Ad-free viewing\n",
    "- Downloads on up to 4 devices\n",
    "\n",
    "If you wish to review your options or make changes to your subscription, please visit netflix.com/account.\n",
    "\n",
    "Thank you for being a Netflix member.\n",
    "\n",
    "Best regards,\n",
    "The Netflix Team\"\"\",\n",
    "\n",
    "    \"\"\"URGENT SECURITY ALERT!!!\n",
    "\n",
    "We detected suspicious login attempts on your PayPal account from an unknown device in Bangkok, Thailand. If this wasn't you, your account may be compromised!\n",
    "\n",
    "To secure your account immediately:\n",
    "1. Click here: [secure-paypal-verify.com]\n",
    "2. Verify your identity\n",
    "3. Update your security settings\n",
    "\n",
    "WARNING: Your account will be suspended in 24 hours if you don't take action!\n",
    "\n",
    "PayPal Security Team\"\"\",\n",
    "\n",
    "    \"\"\"Hello Sarah,\n",
    "\n",
    "I've reviewed the Q2 marketing report you sent and everything looks great! The social media campaign results are particularly impressive.\n",
    "\n",
    "Could you prepare a brief presentation for next Tuesday's team meeting? We'd like to share these insights with the broader marketing team.\n",
    "\n",
    "Also, don't forget we have our weekly catch-up tomorrow at 2 PM EST.\n",
    "\n",
    "Best regards,\n",
    "Mike Johnson\n",
    "Marketing Director\"\"\",\n",
    "\n",
    "    \"\"\"🎉 Special Weekend Sale! 🎉\n",
    "\n",
    "Get 80% OFF on ALL Apple Products!\n",
    "- iPhone 15 Pro: Only $299\n",
    "- MacBook Pro: Starting at $499\n",
    "- AirPods Pro: Just $49\n",
    "\n",
    "LIMITED TIME OFFER - First 100 customers only!\n",
    "🔥 Click here to claim your discount: [www.apple-mega-deals.shop]\n",
    "\n",
    "This offer cannot be combined with other discounts. Don't miss out!\n",
    "\n",
    "Sent from: Apple Store Deals\"\"\",\n",
    "\"\"\"Subject: Meeting Follow-up and Next Steps\n",
    "\n",
    "Hi team,\n",
    "\n",
    "Thank you all for your contributions during today's strategy meeting. I’ve attached the minutes for your review. Please make sure to go through them and share your feedback by Thursday.\n",
    "\n",
    "Action items:\n",
    "- Marketing: Finalize the Q3 campaign proposal by next Monday.\n",
    "- Tech: Complete the platform performance audit by end of the week.\n",
    "- HR: Prepare onboarding materials for the new hires starting July 1st.\n",
    "\n",
    "Let me know if you have any questions.\n",
    "\n",
    "Best,\n",
    "Laura Smith\n",
    "Chief Operations Officer\n",
    "Innovatek Solutions\"\"\",\n",
    "\"\"\"Subject: Reminder: Password Change Required by End of Month\n",
    "\n",
    "Dear Employee,\n",
    "\n",
    "As part of our ongoing commitment to security, please update your company account password before July 31st to comply with our IT policy.\n",
    "\n",
    "To update your password, please visit the official internal portal here: https://intranet.company.com/password-reset\n",
    "\n",
    "If you have already updated your password recently, no further action is needed.\n",
    "\n",
    "For assistance, contact IT support at it-support@company.com.\n",
    "\n",
    "Thank you for your cooperation.\n",
    "\n",
    "Best regards,  \n",
    "IT Security Team\n",
    "\n",
    "\"\"\",\n",
    "\"\"\"Subject: Monthly Invoice from Your Utility Provider\n",
    "\n",
    "Hello,\n",
    "\n",
    "Please find attached your invoice for this month’s electricity usage. Kindly review the details and make the payment by the due date to avoid any service interruption.\n",
    "\n",
    "You can view and pay your bill securely here: http://utility-payments.example.com/invoice123\n",
    "\n",
    "If you have any questions, please contact customer.service@utility-company.com.\n",
    "\n",
    "Thank you for your prompt attention.\n",
    "\n",
    "Best regards,  \n",
    "Utility Billing Department\n",
    "\"\"\"\n",
    "]\n",
    "\n",
    "# ====================\n",
    "# Exécution des tests\n",
    "# ====================\n",
    "\n",
    "print(\"Test sur quelques exemples :\")\n",
    "for i, email in enumerate(test_emails, 1):\n",
    "    prediction, confidence = predict_email(email, model, tokenizer)\n",
    "    print(f\"\\nEmail {i}:\")\n",
    "    print(f\"Texte: {email[:80]}...\")\n",
    "    print(f\"Prédiction: {prediction}\")\n",
    "    print(f\"Confiance: {confidence:.4f} ({confidence*100:.2f}%)\")\n"
   ]
  }
 ],
 "metadata": {
  "kernelspec": {
   "display_name": "venv",
   "language": "python",
   "name": "python3"
  },
  "language_info": {
   "codemirror_mode": {
    "name": "ipython",
    "version": 3
   },
   "file_extension": ".py",
   "mimetype": "text/x-python",
   "name": "python",
   "nbconvert_exporter": "python",
   "pygments_lexer": "ipython3",
   "version": "3.12.3"
  }
 },
 "nbformat": 4,
 "nbformat_minor": 5
}
