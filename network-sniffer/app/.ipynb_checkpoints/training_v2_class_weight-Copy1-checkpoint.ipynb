{
 "cells": [
  {
   "cell_type": "markdown",
   "id": "cad62f38",
   "metadata": {},
   "source": [
    "Steps:\n",
    "Feature and label preparation\n",
    "\n",
    "Train/test split\n",
    "\n",
    "Training with XGBoost\n",
    "\n",
    "Predictions\n",
    "\n",
    "Classification report (precision, recall, f1-score per class)"
   ]
  },
  {
   "cell_type": "code",
   "execution_count": 1,
   "id": "937b022d",
   "metadata": {
    "tags": []
   },
   "outputs": [
    {
     "name": "stdout",
     "output_type": "stream",
     "text": [
      "Requirement already satisfied: pandas in /opt/conda/lib/python3.11/site-packages (from -r ../requirements.txt (line 1)) (2.2.2)\n",
      "Requirement already satisfied: scikit-learn in /opt/conda/lib/python3.11/site-packages (from -r ../requirements.txt (line 2)) (1.5.0)\n",
      "Requirement already satisfied: xgboost in /opt/conda/lib/python3.11/site-packages (from -r ../requirements.txt (line 3)) (2.0.3)\n",
      "Requirement already satisfied: seaborn in /opt/conda/lib/python3.11/site-packages (from -r ../requirements.txt (line 4)) (0.13.2)\n",
      "Requirement already satisfied: imbalanced-learn in /opt/conda/lib/python3.11/site-packages (from -r ../requirements.txt (line 5)) (0.13.0)\n",
      "Requirement already satisfied: numpy>=1.23.2 in /opt/conda/lib/python3.11/site-packages (from pandas->-r ../requirements.txt (line 1)) (1.26.4)\n",
      "Requirement already satisfied: python-dateutil>=2.8.2 in /opt/conda/lib/python3.11/site-packages (from pandas->-r ../requirements.txt (line 1)) (2.9.0)\n",
      "Requirement already satisfied: pytz>=2020.1 in /opt/conda/lib/python3.11/site-packages (from pandas->-r ../requirements.txt (line 1)) (2024.1)\n",
      "Requirement already satisfied: tzdata>=2022.7 in /opt/conda/lib/python3.11/site-packages (from pandas->-r ../requirements.txt (line 1)) (2024.1)\n",
      "Requirement already satisfied: scipy>=1.6.0 in /opt/conda/lib/python3.11/site-packages (from scikit-learn->-r ../requirements.txt (line 2)) (1.14.0)\n",
      "Requirement already satisfied: joblib>=1.2.0 in /opt/conda/lib/python3.11/site-packages (from scikit-learn->-r ../requirements.txt (line 2)) (1.4.2)\n",
      "Requirement already satisfied: threadpoolctl>=3.1.0 in /opt/conda/lib/python3.11/site-packages (from scikit-learn->-r ../requirements.txt (line 2)) (3.5.0)\n",
      "Requirement already satisfied: matplotlib!=3.6.1,>=3.4 in /opt/conda/lib/python3.11/site-packages (from seaborn->-r ../requirements.txt (line 4)) (3.9.0)\n",
      "Requirement already satisfied: sklearn-compat<1,>=0.1 in /opt/conda/lib/python3.11/site-packages (from imbalanced-learn->-r ../requirements.txt (line 5)) (0.1.3)\n",
      "Requirement already satisfied: contourpy>=1.0.1 in /opt/conda/lib/python3.11/site-packages (from matplotlib!=3.6.1,>=3.4->seaborn->-r ../requirements.txt (line 4)) (1.2.1)\n",
      "Requirement already satisfied: cycler>=0.10 in /opt/conda/lib/python3.11/site-packages (from matplotlib!=3.6.1,>=3.4->seaborn->-r ../requirements.txt (line 4)) (0.12.1)\n",
      "Requirement already satisfied: fonttools>=4.22.0 in /opt/conda/lib/python3.11/site-packages (from matplotlib!=3.6.1,>=3.4->seaborn->-r ../requirements.txt (line 4)) (4.53.0)\n",
      "Requirement already satisfied: kiwisolver>=1.3.1 in /opt/conda/lib/python3.11/site-packages (from matplotlib!=3.6.1,>=3.4->seaborn->-r ../requirements.txt (line 4)) (1.4.5)\n",
      "Requirement already satisfied: packaging>=20.0 in /opt/conda/lib/python3.11/site-packages (from matplotlib!=3.6.1,>=3.4->seaborn->-r ../requirements.txt (line 4)) (24.1)\n",
      "Requirement already satisfied: pillow>=8 in /opt/conda/lib/python3.11/site-packages (from matplotlib!=3.6.1,>=3.4->seaborn->-r ../requirements.txt (line 4)) (10.3.0)\n",
      "Requirement already satisfied: pyparsing>=2.3.1 in /opt/conda/lib/python3.11/site-packages (from matplotlib!=3.6.1,>=3.4->seaborn->-r ../requirements.txt (line 4)) (3.1.2)\n",
      "Requirement already satisfied: six>=1.5 in /opt/conda/lib/python3.11/site-packages (from python-dateutil>=2.8.2->pandas->-r ../requirements.txt (line 1)) (1.16.0)\n",
      "Note: you may need to restart the kernel to use updated packages.\n"
     ]
    }
   ],
   "source": [
    "# Installing dependencies\n",
    "\n",
    "%pip install -r ../requirements.txt\n"
   ]
  },
  {
   "cell_type": "code",
   "execution_count": 2,
   "id": "9eac460c",
   "metadata": {
    "tags": []
   },
   "outputs": [
    {
     "name": "stdout",
     "output_type": "stream",
     "text": [
      "Preparing features and labels...\n",
      "Features and labels prepared successfully!\n"
     ]
    }
   ],
   "source": [
    "print(\"Preparing features and labels...\")\n",
    "import cudf\n",
    "import cupy as cp\n",
    "from cuml.preprocessing import LabelEncoder\n",
    "\n",
    "# Reading CSV file with cuDF (GPU)\n",
    "df = cudf.read_csv('../data/processed_file_cleaned.csv')\n",
    "\n",
    "# Checking columns to drop (since cuDF doesn't support errors='ignore')\n",
    "columns_to_drop = [col for col in ['Label', 'mapped_label'] if col in df.columns]\n",
    "X = df.drop(columns=columns_to_drop)\n",
    "\n",
    "# Extracting target variable\n",
    "y = df['mapped_label']\n",
    "\n",
    "# Label encoding (on GPU)\n",
    "le = LabelEncoder()\n",
    "y_encoded = le.fit_transform(y)\n",
    "\n",
    "print(\"Features and labels prepared successfully!\")"
   ]
  },
  {
   "cell_type": "code",
   "execution_count": 3,
   "id": "93b79947",
   "metadata": {
    "tags": []
   },
   "outputs": [
    {
     "name": "stdout",
     "output_type": "stream",
     "text": [
      "Splitting the dataset into training and testing sets...\n",
      "Dataset split successfully!\n"
     ]
    }
   ],
   "source": [
    "print(\"Splitting the dataset into training and testing sets...\")\n",
    "\n",
    "from cuml.model_selection import train_test_split\n",
    "\n",
    "# cuDF DataFrame + cupy/cudf Series → tout sur le GPU\n",
    "X_train, X_test, y_train, y_test = train_test_split(\n",
    "    X, y_encoded, \n",
    "    test_size=0.2, \n",
    "    random_state=42, \n",
    "    stratify=y_encoded  # fonctionne avec cuDF Series\n",
    ")\n",
    "\n",
    "print(\"Dataset split successfully!\")\n"
   ]
  },
  {
   "cell_type": "code",
   "execution_count": 4,
   "id": "9bd98238-95a9-462e-9cb7-38b0e2dd5294",
   "metadata": {
    "tags": []
   },
   "outputs": [
    {
     "name": "stdout",
     "output_type": "stream",
     "text": [
      "Calculating class weights for Bot class balancing...\n",
      "Bot class found at index: 1\n",
      "Class names: ['BENIGN', 'Bot', 'DOS/DDOS', 'Patator', 'PortScan', 'WebAttack']\n",
      "Distribution in training set:\n",
      "  BENIGN: 1817056\n",
      "  Bot: 1565\n",
      "  DOS/DDOS: 303798\n",
      "  Patator: 11066\n",
      "  PortScan: 127043\n",
      "  WebAttack: 1744\n",
      "\n",
      "Bot count: 1565\n",
      "Majority class count: 1817056\n",
      "Scale pos weight for Bot: 1161.06\n",
      "\n",
      "Class weights (balanced):\n",
      "  BENIGN: 0.208\n",
      "  Bot: 240.924\n",
      "  DOS/DDOS: 1.241\n",
      "  Patator: 34.072\n",
      "  PortScan: 2.968\n",
      "  WebAttack: 216.196\n",
      "\n",
      "Data ready for GPU training with class balancing!\n"
     ]
    }
   ],
   "source": [
    "# Oversampling with class weights\n",
    "print(\"Calculating class weights for Bot class balancing...\")\n",
    "import cupy as cp\n",
    "import numpy as np\n",
    "\n",
    "# Identify Bot class\n",
    "bot_class_index = None\n",
    "class_names = le.classes_.to_pandas().tolist()\n",
    "for i, class_name in enumerate(class_names):\n",
    "    if 'Bot' in class_name:\n",
    "        bot_class_index = i\n",
    "        break\n",
    "\n",
    "print(f\"Bot class found at index: {bot_class_index}\")\n",
    "print(f\"Class names: {class_names}\")\n",
    "\n",
    "# Count samples per class in training set\n",
    "y_train_numpy = y_train.to_pandas().values\n",
    "unique, counts = np.unique(y_train_numpy, return_counts=True)\n",
    "target_counts = {}\n",
    "\n",
    "print(\"Distribution in training set:\")\n",
    "for i, count in zip(unique, counts):\n",
    "    target_counts[i] = count\n",
    "    print(f\"  {class_names[i]}: {count}\")\n",
    "\n",
    "# Calculate scale_pos_weight for Bot class\n",
    "bot_count = target_counts[bot_class_index]\n",
    "majority_count = max(count for idx, count in target_counts.items() if idx != bot_class_index)\n",
    "scale_pos_weight_bot = majority_count / bot_count\n",
    "\n",
    "print(f\"\\nBot count: {bot_count}\")\n",
    "print(f\"Majority class count: {majority_count}\")\n",
    "print(f\"Scale pos weight for Bot: {scale_pos_weight_bot:.2f}\")\n",
    "\n",
    "# Alternative: Calculate all class weights (more robust for multi-class)\n",
    "from sklearn.utils.class_weight import compute_class_weight\n",
    "\n",
    "# Calculate weights for all classes\n",
    "class_weights = compute_class_weight(\n",
    "    'balanced',\n",
    "    classes=np.unique(y_train_numpy),\n",
    "    y=y_train_numpy\n",
    ")\n",
    "\n",
    "# Convert to dictionary\n",
    "class_weight_dict = {i: weight for i, weight in enumerate(class_weights)}\n",
    "\n",
    "print(f\"\\nClass weights (balanced):\")\n",
    "for i, weight in class_weight_dict.items():\n",
    "    print(f\"  {class_names[i]}: {weight:.3f}\")\n",
    "\n",
    "# Keep data on GPU (no conversion)\n",
    "X_train_cp = X_train.to_cupy()\n",
    "y_train_cp = y_train.to_cupy()\n",
    "\n",
    "print(\"\\nData ready for GPU training with class balancing!\")"
   ]
  },
  {
   "cell_type": "code",
   "execution_count": 5,
   "id": "715e1048",
   "metadata": {
    "tags": []
   },
   "outputs": [
    {
     "name": "stdout",
     "output_type": "stream",
     "text": [
      "Training the XGBoost model with class balancing...\n",
      "Model trained successfully!\n"
     ]
    }
   ],
   "source": [
    "print(\"Training the XGBoost model with class balancing...\")\n",
    "\n",
    "import xgboost as xgb\n",
    "\n",
    "sample_weights = np.array([class_weight_dict[label] for label in y_train_numpy])\n",
    "\n",
    "model = xgb.XGBClassifier(\n",
    "    n_estimators=100,\n",
    "    max_depth=6,\n",
    "    learning_rate=0.1,\n",
    "    use_label_encoder=False,\n",
    "    eval_metric='mlogloss',\n",
    "    tree_method='hist',\n",
    "    device='cuda',\n",
    "    random_state=42\n",
    ")\n",
    "\n",
    "# Entraînement avec poids sur GPU\n",
    "model.fit(\n",
    "    X_train_cp, \n",
    "    y_train_cp,\n",
    "    sample_weight=cp.asarray(sample_weights)  # Poids sur GPU\n",
    ")\n",
    "\n",
    "print(\"Model trained successfully!\")"
   ]
  },
  {
   "cell_type": "code",
   "execution_count": 6,
   "id": "789d8ab7",
   "metadata": {
    "tags": []
   },
   "outputs": [
    {
     "name": "stdout",
     "output_type": "stream",
     "text": [
      "Making predictions on the test set...\n",
      "Predictions made successfully!\n"
     ]
    },
    {
     "name": "stderr",
     "output_type": "stream",
     "text": [
      "/opt/conda/lib/python3.11/site-packages/xgboost/data.py:849: FutureWarning: Index.format is deprecated and will be removed in a future version. Convert using index.astype(str) or index.map(formatter) instead.\n",
      "  feature_names = data.columns.format()\n"
     ]
    }
   ],
   "source": [
    "#predictions\n",
    "print(\"Making predictions on the test set...\")\n",
    "y_pred = model.predict(X_test)\n",
    "print(\"Predictions made successfully!\")"
   ]
  },
  {
   "cell_type": "code",
   "execution_count": 7,
   "id": "b787ce1e",
   "metadata": {
    "tags": []
   },
   "outputs": [
    {
     "data": {
      "image/png": "[encoded data removed]",
      "text/plain": [
       "<Figure size 1000x800 with 2 Axes>"
      ]
     },
     "metadata": {},
     "output_type": "display_data"
    },
    {
     "name": "stdout",
     "output_type": "stream",
     "text": [
      "\n",
      "Classification Report:\n",
      "\n",
      "              precision    recall  f1-score   support\n",
      "\n",
      "      BENIGN       1.00      1.00      1.00    454264\n",
      "         Bot       0.51      1.00      0.68       391\n",
      "    DOS/DDOS       1.00      1.00      1.00     75950\n",
      "     Patator       0.99      1.00      1.00      2766\n",
      "    PortScan       0.99      1.00      1.00     31761\n",
      "   WebAttack       0.96      0.99      0.97       436\n",
      "\n",
      "    accuracy                           1.00    565568\n",
      "   macro avg       0.91      1.00      0.94    565568\n",
      "weighted avg       1.00      1.00      1.00    565568\n",
      "\n",
      "\n",
      "Classification Report DataFrame:\n",
      "\n",
      "              precision    recall  f1-score        support\n",
      "BENIGN         0.999960  0.998006  0.998982  454264.000000\n",
      "Bot            0.514512  0.997442  0.678851     391.000000\n",
      "DOS/DDOS       0.996143  0.999776  0.997956   75950.000000\n",
      "Patator        0.992465  1.000000  0.996218    2766.000000\n",
      "PortScan       0.993149  0.999591  0.996360   31761.000000\n",
      "WebAttack      0.955850  0.993119  0.974128     436.000000\n",
      "accuracy       0.998338  0.998338  0.998338       0.998338\n",
      "macro avg      0.908680  0.997989  0.940416  565568.000000\n",
      "weighted avg   0.998659  0.998338  0.998443  565568.000000\n",
      "\n",
      "Global Metrics:\n",
      "Accuracy: 0.9983\n",
      "F1-score (macro): 0.9404\n",
      "F1-score (micro): 0.9983\n",
      "Precision (macro): 0.9087\n",
      "Recall (macro): 0.9980\n"
     ]
    }
   ],
   "source": [
    "# Display the results\n",
    "\n",
    "import seaborn as sns\n",
    "import matplotlib.pyplot as plt\n",
    "from sklearn.metrics import classification_report, confusion_matrix, f1_score, accuracy_score, precision_score, recall_score\n",
    "import pandas as pd\n",
    "\n",
    "# GPU -> CPU conversion\n",
    "y_test_cpu = y_test.to_numpy()\n",
    "y_pred_cpu = y_pred\n",
    "\n",
    "# Confusion matrix\n",
    "cm = confusion_matrix(y_test_cpu, y_pred_cpu)\n",
    "\n",
    "# Fix: Convert cuDF StringColumn to Python list\n",
    "class_names = le.classes_.to_pandas().tolist()\n",
    "\n",
    "plt.figure(figsize=(10,8))\n",
    "sns.heatmap(cm, annot=True, fmt='d', cmap='Blues',\n",
    "            xticklabels=class_names,\n",
    "            yticklabels=class_names)\n",
    "plt.xlabel('Predicted')\n",
    "plt.ylabel('True')\n",
    "plt.title('Confusion Matrix')\n",
    "plt.show()\n",
    "\n",
    "# Classification report (text)\n",
    "print(\"\\nClassification Report:\\n\")\n",
    "print(classification_report(y_test_cpu, y_pred_cpu, target_names=class_names))\n",
    "\n",
    "# Report as pandas DataFrame (easier to manipulate)\n",
    "report_dict = classification_report(y_test_cpu, y_pred_cpu, target_names=class_names, output_dict=True)\n",
    "report_df = pd.DataFrame(report_dict).transpose()\n",
    "print(\"\\nClassification Report DataFrame:\\n\")\n",
    "print(report_df)\n",
    "\n",
    "# Global metrics (macro and micro)\n",
    "f1_macro = f1_score(y_test_cpu, y_pred_cpu, average='macro')\n",
    "f1_micro = f1_score(y_test_cpu, y_pred_cpu, average='micro')\n",
    "accuracy = accuracy_score(y_test_cpu, y_pred_cpu)\n",
    "precision_macro = precision_score(y_test_cpu, y_pred_cpu, average='macro')\n",
    "recall_macro = recall_score(y_test_cpu, y_pred_cpu, average='macro')\n",
    "\n",
    "print(f\"\\nGlobal Metrics:\")\n",
    "print(f\"Accuracy: {accuracy:.4f}\")\n",
    "print(f\"F1-score (macro): {f1_macro:.4f}\")\n",
    "print(f\"F1-score (micro): {f1_micro:.4f}\")\n",
    "print(f\"Precision (macro): {precision_macro:.4f}\")\n",
    "print(f\"Recall (macro): {recall_macro:.4f}\")"
   ]
  },
  {
   "cell_type": "code",
   "execution_count": null,
   "id": "8898b65e-a5dd-4bb4-95bb-5af3ffa3f1ac",
   "metadata": {},
   "outputs": [],
   "source": []
  }
 ],
 "metadata": {
  "kernelspec": {
   "display_name": "Python 3 (ipykernel)",
   "language": "python",
   "name": "python3"
  },
  "language_info": {
   "codemirror_mode": {
    "name": "ipython",
    "version": 3
   },
   "file_extension": ".py",
   "mimetype": "text/x-python",
   "name": "python",
   "nbconvert_exporter": "python",
   "pygments_lexer": "ipython3",
   "version": "3.11.9"
  }
 },
 "nbformat": 4,
 "nbformat_minor": 5
}
