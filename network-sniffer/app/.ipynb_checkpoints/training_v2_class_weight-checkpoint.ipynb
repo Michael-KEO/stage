{
 "cells": [
  {
   "cell_type": "markdown",
   "id": "cad62f38",
   "metadata": {},
   "source": [
    "Steps:\n",
    "Feature and label preparation\n",
    "\n",
    "Train/test split\n",
    "\n",
    "Training with XGBoost\n",
    "\n",
    "Predictions\n",
    "\n",
    "Classification report (precision, recall, f1-score per class)"
   ]
  },
  {
   "cell_type": "raw",
   "id": "5c4c4428-dc9c-42e0-8716-b74ec21a5842",
   "metadata": {
    "tags": []
   },
   "source": [
    "# Installing dependencies\n",
    "\n",
    "%pip install -r ../requirements.txt\n"
   ]
  },
  {
   "cell_type": "raw",
   "id": "427cf06b-ccad-48e2-81c0-ce5270531ff4",
   "metadata": {
    "tags": []
   },
   "source": [
    "print(\"Preparing features and labels...\")\n",
    "import cudf\n",
    "import cupy as cp\n",
    "from cuml.preprocessing import LabelEncoder\n",
    "\n",
    "# Reading CSV file with cuDF (GPU)\n",
    "df = cudf.read_csv('../data/processed_file_cleaned.csv')\n",
    "\n",
    "# Checking columns to drop (since cuDF doesn't support errors='ignore')\n",
    "columns_to_drop = [col for col in ['Label', 'mapped_label'] if col in df.columns]\n",
    "X = df.drop(columns=columns_to_drop)\n",
    "\n",
    "# Extracting target variable\n",
    "y = df['mapped_label']\n",
    "\n",
    "# Label encoding (on GPU)\n",
    "le = LabelEncoder()\n",
    "y_encoded = le.fit_transform(y)\n",
    "\n",
    "print(\"Features and labels prepared successfully!\")"
   ]
  },
  {
   "cell_type": "raw",
   "id": "ee0aa86e-4b03-4c49-bd18-9aac2657fda8",
   "metadata": {
    "tags": []
   },
   "source": [
    "print(\"Splitting the dataset into training and testing sets...\")\n",
    "\n",
    "from cuml.model_selection import train_test_split\n",
    "\n",
    "# cuDF DataFrame + cupy/cudf Series → tout sur le GPU\n",
    "X_train, X_test, y_train, y_test = train_test_split(\n",
    "    X, y_encoded, \n",
    "    test_size=0.2, \n",
    "    random_state=42, \n",
    "    stratify=y_encoded  # fonctionne avec cuDF Series\n",
    ")\n",
    "\n",
    "print(\"Dataset split successfully!\")"
   ]
  },
  {
   "cell_type": "code",
   "execution_count": 3,
   "id": "9bd98238-95a9-462e-9cb7-38b0e2dd5294",
   "metadata": {
    "tags": []
   },
   "outputs": [
    {
     "name": "stdout",
     "output_type": "stream",
     "text": [
      "Calculating class weights for Bot class balancing...\n",
      "Bot class found at index: None\n",
      "Class names: ['0', '1', '2', '3', '4', '5']\n",
      "Distribution in training set:\n",
      "  0: 1817056\n",
      "  1: 1565\n",
      "  2: 303798\n",
      "  3: 11066\n",
      "  4: 127043\n",
      "  5: 1744\n",
      "\n",
      "Class weights (balanced):\n",
      "  0: 0.208\n",
      "  1: 240.924\n",
      "  2: 1.241\n",
      "  3: 34.072\n",
      "  4: 2.968\n",
      "  5: 216.196\n",
      "\n",
      "Data ready for GPU training with class balancing!\n"
     ]
    }
   ],
   "source": [
    "# Oversampling with class weights\n",
    "print(\"Calculating class weights class balancing...\")\n",
    "import cupy as cp\n",
    "import numpy as np\n",
    "import cudf\n",
    "from sklearn.utils.class_weight import compute_class_weight\n",
    "from cuml.preprocessing import LabelEncoder\n",
    "\n",
    "# Loading the datasets\n",
    "X_train = cudf.read_csv(\"../data/train_test/X_train.csv\")\n",
    "y_train = cudf.read_csv(\"../data/train_test/y_train.csv\").iloc[:, 0]\n",
    "\n",
    "# Label encoding\n",
    "le = LabelEncoder()\n",
    "_ = le.fit_transform(y_train)\n",
    "\n",
    "class_names = le.classes_.to_pandas().astype(str).tolist()\n",
    "print(f\"Class names: {class_names}\")\n",
    "\n",
    "# Count samples per class in training set\n",
    "y_train_numpy = y_train.to_pandas().values\n",
    "unique, counts = np.unique(y_train_numpy, return_counts=True)\n",
    "target_counts = {}\n",
    "\n",
    "print(\"Distribution in training set:\")\n",
    "for i, count in zip(unique, counts):\n",
    "    target_counts[i] = count\n",
    "    print(f\"  {class_names[i]}: {count}\")\n",
    "\n",
    "# Calculate weights for all classes\n",
    "class_weights = compute_class_weight(\n",
    "    'balanced',\n",
    "    classes=np.unique(y_train_numpy),\n",
    "    y=y_train_numpy\n",
    ")\n",
    "\n",
    "# Convert to dictionary\n",
    "class_weight_dict = {i: weight for i, weight in enumerate(class_weights)}\n",
    "\n",
    "print(f\"\\nClass weights (balanced):\")\n",
    "for i, weight in class_weight_dict.items():\n",
    "    print(f\"  {class_names[i]}: {weight:.3f}\")\n",
    "\n",
    "# Keep data on GPU (no conversion)\n",
    "X_train_cp = X_train.to_cupy()\n",
    "y_train_cp = y_train.to_cupy()\n",
    "\n",
    "print(\"\\nData ready for GPU training with class balancing!\")"
   ]
  },
  {
   "cell_type": "code",
   "execution_count": null,
   "id": "715e1048",
   "metadata": {
    "tags": []
   },
   "outputs": [],
   "source": [
    "print(\"Training the XGBoost model with class balancing...\")\n",
    "\n",
    "import xgboost as xgb\n",
    "\n",
    "sample_weights = np.array([class_weight_dict[label] for label in y_train_numpy])\n",
    "\n",
    "model = xgb.XGBClassifier(\n",
    "    n_estimators=100,\n",
    "    max_depth=6,\n",
    "    learning_rate=0.1,\n",
    "    use_label_encoder=False,\n",
    "    eval_metric='mlogloss',\n",
    "    tree_method='hist',\n",
    "    device='cuda',\n",
    "    random_state=42\n",
    ")\n",
    "\n",
    "# Entraînement avec poids sur GPU\n",
    "model.fit(\n",
    "    X_train_cp, \n",
    "    y_train_cp,\n",
    "    sample_weight=cp.asarray(sample_weights)  # Poids sur GPU\n",
    ")\n",
    "\n",
    "print(\"Model trained successfully!\")"
   ]
  },
  {
   "cell_type": "code",
   "execution_count": null,
   "id": "c457233a-a76e-48a3-931e-17ab5ce856d2",
   "metadata": {
    "tags": []
   },
   "outputs": [],
   "source": [
    "import numpy as np\n",
    "import json\n",
    "\n",
    "from cuml.preprocessing import LabelEncoder\n",
    "\n",
    "# Load y_train\n",
    "y_train = cudf.read_csv(\"../data/train_test/y_train.csv\").iloc[:, 0]\n",
    "\n",
    "# Label encoding\n",
    "le = LabelEncoder()\n",
    "_ = le.fit_transform(y_train)\n",
    "\n",
    "model.save_model(\"../models/xgb_model_v2.json\")\n",
    "print(\"Model saved as xgb_model_v2.json\")\n",
    "\n",
    "# Convert cudf column -> pandas -> numpy array of strings\n",
    "classes_np = le.classes_.to_pandas().astype(str).to_numpy()\n",
    "\n",
    "# Fix for .npy: convert to fixed-length Unicode array so allow_pickle=False works\n",
    "max_len = max(len(s) for s in classes_np)\n",
    "classes_np_fixed = classes_np.astype(f'<U{max_len}')\n",
    "\n",
    "# Save as .npy → fast, reliable, ideal for Python/NumPy\n",
    "np.save(\"../models/label_encoder_classes_v2.npy\", classes_np_fixed, allow_pickle=False)\n",
    "print(\"Label Encoder classes saved as label_encoder_classes_v2.npy\")\n",
    "\n",
    "# Save as .json → human-readable, portable, easy to inspect/share\n",
    "with open(\"../models/label_encoder_classes_v2.json\", \"w\", encoding=\"utf-8\") as f:\n",
    "    json.dump(classes_np_fixed.tolist(), f, ensure_ascii=False)\n",
    "print(\"Label Encoder classes saved as label_encoder_classes_v2.json\")"
   ]
  },
  {
   "cell_type": "raw",
   "id": "0d080486-5f80-4bae-a3b4-b7232c03dba7",
   "metadata": {
    "tags": []
   },
   "source": [
    "#predictions\n",
    "print(\"Making predictions on the test set...\")\n",
    "y_pred = model.predict(X_test)\n",
    "print(\"Predictions made successfully!\")"
   ]
  },
  {
   "cell_type": "raw",
   "id": "30f6fb06-90d7-4654-b759-61334189eca6",
   "metadata": {
    "tags": []
   },
   "source": [
    "# Display the results\n",
    "\n",
    "import seaborn as sns\n",
    "import matplotlib.pyplot as plt\n",
    "from sklearn.metrics import classification_report, confusion_matrix, f1_score, accuracy_score, precision_score, recall_score\n",
    "import pandas as pd\n",
    "\n",
    "# GPU -> CPU conversion\n",
    "y_test_cpu = y_test.to_numpy()\n",
    "y_pred_cpu = y_pred\n",
    "\n",
    "# Confusion matrix\n",
    "cm = confusion_matrix(y_test_cpu, y_pred_cpu)\n",
    "\n",
    "# Fix: Convert cuDF StringColumn to Python list\n",
    "class_names = le.classes_.to_pandas().tolist()\n",
    "\n",
    "plt.figure(figsize=(10,8))\n",
    "sns.heatmap(cm, annot=True, fmt='d', cmap='Blues',\n",
    "            xticklabels=class_names,\n",
    "            yticklabels=class_names)\n",
    "plt.xlabel('Predicted')\n",
    "plt.ylabel('True')\n",
    "plt.title('Confusion Matrix')\n",
    "plt.show()\n",
    "\n",
    "# Classification report (text)\n",
    "print(\"\\nClassification Report:\\n\")\n",
    "print(classification_report(y_test_cpu, y_pred_cpu, target_names=class_names))\n",
    "\n",
    "# Report as pandas DataFrame (easier to manipulate)\n",
    "report_dict = classification_report(y_test_cpu, y_pred_cpu, target_names=class_names, output_dict=True)\n",
    "report_df = pd.DataFrame(report_dict).transpose()\n",
    "print(\"\\nClassification Report DataFrame:\\n\")\n",
    "print(report_df)\n",
    "\n",
    "# Global metrics (macro and micro)\n",
    "f1_macro = f1_score(y_test_cpu, y_pred_cpu, average='macro')\n",
    "f1_micro = f1_score(y_test_cpu, y_pred_cpu, average='micro')\n",
    "accuracy = accuracy_score(y_test_cpu, y_pred_cpu)\n",
    "precision_macro = precision_score(y_test_cpu, y_pred_cpu, average='macro')\n",
    "recall_macro = recall_score(y_test_cpu, y_pred_cpu, average='macro')\n",
    "\n",
    "print(f\"\\nGlobal Metrics:\")\n",
    "print(f\"Accuracy: {accuracy:.4f}\")\n",
    "print(f\"F1-score (macro): {f1_macro:.4f}\")\n",
    "print(f\"F1-score (micro): {f1_micro:.4f}\")\n",
    "print(f\"Precision (macro): {precision_macro:.4f}\")\n",
    "print(f\"Recall (macro): {recall_macro:.4f}\")"
   ]
  },
  {
   "cell_type": "code",
   "execution_count": null,
   "id": "8898b65e-a5dd-4bb4-95bb-5af3ffa3f1ac",
   "metadata": {},
   "outputs": [],
   "source": []
  }
 ],
 "metadata": {
  "kernelspec": {
   "display_name": "Python 3 (ipykernel)",
   "language": "python",
   "name": "python3"
  },
  "language_info": {
   "codemirror_mode": {
    "name": "ipython",
    "version": 3
   },
   "file_extension": ".py",
   "mimetype": "text/x-python",
   "name": "python",
   "nbconvert_exporter": "python",
   "pygments_lexer": "ipython3",
   "version": "3.11.9"
  }
 },
 "nbformat": 4,
 "nbformat_minor": 5
}
