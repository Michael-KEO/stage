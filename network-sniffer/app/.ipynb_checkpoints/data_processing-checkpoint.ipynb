{
 "cells": [
  {
   "cell_type": "code",
   "execution_count": 1,
   "id": "61e5e9d2-d039-4328-afa9-68262d0bc639",
   "metadata": {},
   "outputs": [
    {
     "name": "stdout",
     "output_type": "stream",
     "text": [
      "Requirement already satisfied: pandas in /opt/conda/lib/python3.11/site-packages (from -r ../requirements.txt (line 1)) (2.2.2)\n",
      "Requirement already satisfied: scikit-learn in /opt/conda/lib/python3.11/site-packages (from -r ../requirements.txt (line 2)) (1.5.0)\n",
      "Requirement already satisfied: xgboost in /opt/conda/lib/python3.11/site-packages (from -r ../requirements.txt (line 3)) (2.0.3)\n",
      "Requirement already satisfied: seaborn in /opt/conda/lib/python3.11/site-packages (from -r ../requirements.txt (line 4)) (0.13.2)\n",
      "Requirement already satisfied: imbalanced-learn in /opt/conda/lib/python3.11/site-packages (from -r ../requirements.txt (line 5)) (0.14.0)\n",
      "Requirement already satisfied: numpy>=1.23.2 in /opt/conda/lib/python3.11/site-packages (from pandas->-r ../requirements.txt (line 1)) (1.26.4)\n",
      "Requirement already satisfied: python-dateutil>=2.8.2 in /opt/conda/lib/python3.11/site-packages (from pandas->-r ../requirements.txt (line 1)) (2.9.0)\n",
      "Requirement already satisfied: pytz>=2020.1 in /opt/conda/lib/python3.11/site-packages (from pandas->-r ../requirements.txt (line 1)) (2024.1)\n",
      "Requirement already satisfied: tzdata>=2022.7 in /opt/conda/lib/python3.11/site-packages (from pandas->-r ../requirements.txt (line 1)) (2024.1)\n",
      "Requirement already satisfied: scipy>=1.6.0 in /opt/conda/lib/python3.11/site-packages (from scikit-learn->-r ../requirements.txt (line 2)) (1.14.0)\n",
      "Requirement already satisfied: joblib>=1.2.0 in /opt/conda/lib/python3.11/site-packages (from scikit-learn->-r ../requirements.txt (line 2)) (1.4.2)\n",
      "Requirement already satisfied: threadpoolctl>=3.1.0 in /opt/conda/lib/python3.11/site-packages (from scikit-learn->-r ../requirements.txt (line 2)) (3.5.0)\n",
      "Requirement already satisfied: matplotlib!=3.6.1,>=3.4 in /opt/conda/lib/python3.11/site-packages (from seaborn->-r ../requirements.txt (line 4)) (3.9.0)\n",
      "Requirement already satisfied: contourpy>=1.0.1 in /opt/conda/lib/python3.11/site-packages (from matplotlib!=3.6.1,>=3.4->seaborn->-r ../requirements.txt (line 4)) (1.2.1)\n",
      "Requirement already satisfied: cycler>=0.10 in /opt/conda/lib/python3.11/site-packages (from matplotlib!=3.6.1,>=3.4->seaborn->-r ../requirements.txt (line 4)) (0.12.1)\n",
      "Requirement already satisfied: fonttools>=4.22.0 in /opt/conda/lib/python3.11/site-packages (from matplotlib!=3.6.1,>=3.4->seaborn->-r ../requirements.txt (line 4)) (4.53.0)\n",
      "Requirement already satisfied: kiwisolver>=1.3.1 in /opt/conda/lib/python3.11/site-packages (from matplotlib!=3.6.1,>=3.4->seaborn->-r ../requirements.txt (line 4)) (1.4.5)\n",
      "Requirement already satisfied: packaging>=20.0 in /opt/conda/lib/python3.11/site-packages (from matplotlib!=3.6.1,>=3.4->seaborn->-r ../requirements.txt (line 4)) (24.1)\n",
      "Requirement already satisfied: pillow>=8 in /opt/conda/lib/python3.11/site-packages (from matplotlib!=3.6.1,>=3.4->seaborn->-r ../requirements.txt (line 4)) (10.3.0)\n",
      "Requirement already satisfied: pyparsing>=2.3.1 in /opt/conda/lib/python3.11/site-packages (from matplotlib!=3.6.1,>=3.4->seaborn->-r ../requirements.txt (line 4)) (3.1.2)\n",
      "Requirement already satisfied: six>=1.5 in /opt/conda/lib/python3.11/site-packages (from python-dateutil>=2.8.2->pandas->-r ../requirements.txt (line 1)) (1.16.0)\n",
      "Note: you may need to restart the kernel to use updated packages.\n"
     ]
    }
   ],
   "source": [
    "# Installing dependencies\n",
    "\n",
    "%pip install -r ../requirements.txt"
   ]
  },
  {
   "cell_type": "code",
   "execution_count": 2,
   "id": "faa7109b-a940-400a-bc93-b74d862012d3",
   "metadata": {},
   "outputs": [
    {
     "name": "stdout",
     "output_type": "stream",
     "text": [
      "Preparing features and labels...\n",
      "Features and labels prepared successfully!\n"
     ]
    }
   ],
   "source": [
    "print(\"Preparing features and labels...\")\n",
    "import cudf\n",
    "import cupy as cp\n",
    "from cuml.preprocessing import LabelEncoder\n",
    "\n",
    "# Reading CSV file with cuDF (GPU)\n",
    "df = cudf.read_csv('../data/processed_file_cleaned.csv')\n",
    "\n",
    "# Checking columns to drop (since cuDF doesn't support errors='ignore')\n",
    "columns_to_drop = [col for col in ['Label', 'mapped_label'] if col in df.columns]\n",
    "X = df.drop(columns=columns_to_drop)\n",
    "\n",
    "# Extracting target variable\n",
    "y = df['mapped_label']\n",
    "\n",
    "# Label encoding (on GPU)\n",
    "le = LabelEncoder()\n",
    "y_encoded = le.fit_transform(y)\n",
    "\n",
    "print(\"Features and labels prepared successfully!\")"
   ]
  },
  {
   "cell_type": "code",
   "execution_count": null,
   "id": "f73883c9-67ab-4263-8bab-d7275f8218db",
   "metadata": {
    "tags": []
   },
   "outputs": [],
   "source": [
    "print(\"Splitting the dataset into training and testing sets...\")\n",
    "\n",
    "from cuml.model_selection import train_test_split\n",
    "import pandas as pd\n",
    "\n",
    "# cuDF DataFrame + cupy/cudf Series → tout sur le GPU\n",
    "X_train, X_test, y_train, y_test = train_test_split(\n",
    "    X, y_encoded, \n",
    "    test_size=0.2, \n",
    "    random_state=42, \n",
    "    stratify=y_encoded  # fonctionne avec cuDF Series\n",
    ")\n",
    "\n",
    "print(\"Dataset split successfully!\")\n",
    "\n",
    "print(\"\\nSaving the datasets...\")\n",
    "\n",
    "X_train.to_pandas().to_csv(\"../data/train_test/X_train.csv\", index=False)\n",
    "X_test.to_pandas().to_csv(\"../data/train_test/X_test.csv\", index=False)\n",
    "\n",
    "pd.DataFrame(y_train.to_numpy()).to_csv(\"../data/train_test/y_train.csv\", index=False)\n",
    "pd.DataFrame(y_test.to_numpy()).to_csv(\"../data/train_test/y_test.csv\", index=False)\n",
    "\n",
    "print(\"Dataset saved in ../data/train_test/\")"
   ]
  },
  {
   "cell_type": "code",
   "execution_count": null,
   "id": "4d0780bd-b07d-418d-9586-1a7c16982b2a",
   "metadata": {},
   "outputs": [],
   "source": []
  }
 ],
 "metadata": {
  "kernelspec": {
   "display_name": "Python 3 (ipykernel)",
   "language": "python",
   "name": "python3"
  },
  "language_info": {
   "codemirror_mode": {
    "name": "ipython",
    "version": 3
   },
   "file_extension": ".py",
   "mimetype": "text/x-python",
   "name": "python",
   "nbconvert_exporter": "python",
   "pygments_lexer": "ipython3",
   "version": "3.11.9"
  }
 },
 "nbformat": 4,
 "nbformat_minor": 5
}
