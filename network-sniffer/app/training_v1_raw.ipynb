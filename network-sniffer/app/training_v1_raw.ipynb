{
 "cells": [
  {
   "cell_type": "code",
   "execution_count": 1,
   "id": "715e1048",
   "metadata": {
    "tags": []
   },
   "outputs": [
    {
     "name": "stdout",
     "output_type": "stream",
     "text": [
      "Training the XGBoost model...\n",
      "Model trained successfully!\n"
     ]
    }
   ],
   "source": [
    "print(\"Training the XGBoost model...\")\n",
    "\n",
    "import cudf\n",
    "import xgboost as xgb\n",
    "import cupy as cp\n",
    "\n",
    "# Loading the datasets\n",
    "X_train = cudf.read_csv(\"../data/train_test/X_train.csv\")\n",
    "y_train = cudf.read_csv(\"../data/train_test/y_train.csv\").iloc[:, 0]\n",
    "\n",
    "# Conversion cuDF → cupy.ndarray\n",
    "X_train_cp = X_train.to_cupy()\n",
    "y_train_cp = y_train.to_cupy()\n",
    "\n",
    "model = xgb.XGBClassifier(\n",
    "    n_estimators=100,\n",
    "    max_depth=6,\n",
    "    learning_rate=0.1,\n",
    "    use_label_encoder=False,\n",
    "    eval_metric='mlogloss',\n",
    "    tree_method='hist',\n",
    "    device='cuda'\n",
    ")\n",
    "\n",
    "# Entraînement sur le GPU avec arrays cupy\n",
    "model.fit(X_train_cp, y_train_cp)\n",
    "\n",
    "print(\"Model trained successfully!\")"
   ]
  },
  {
   "cell_type": "code",
   "execution_count": 9,
   "id": "1d1a0590-c201-4bcc-abb3-223e2a1e8d39",
   "metadata": {
    "tags": []
   },
   "outputs": [
    {
     "name": "stdout",
     "output_type": "stream",
     "text": [
      "Model saved as xgb_model_v1.json\n",
      "Label Encoder classes saved as label_encoder_classes_v1.npy\n",
      "Label Encoder classes saved as label_encoder_classes_v1.json\n"
     ]
    }
   ],
   "source": [
    "import numpy as np\n",
    "import json\n",
    "from cuml.preprocessing import LabelEncoder\n",
    "\n",
    "#  Read only the labels column from cleaned file to get original class names \n",
    "y_labels = cudf.read_csv(\"../data/processed_file_cleaned.csv\", usecols=['mapped_label'])['mapped_label']\n",
    "\n",
    "# Label encoding\n",
    "le = LabelEncoder()\n",
    "_ = le.fit_transform(y_labels)\n",
    "\n",
    "# Save the model\n",
    "model.save_model(\"../models/xgb_model_v1.json\")\n",
    "print(\"Model saved as xgb_model_v1.json\")\n",
    "\n",
    "# Convert cudf column -> pandas -> numpy array of strings\n",
    "classes_np = le.classes_.to_pandas().astype(str).to_numpy()\n",
    "\n",
    "# Fix for .npy: convert to fixed-length Unicode array so allow_pickle=False works\n",
    "max_len = max(len(s) for s in classes_np)\n",
    "classes_np_fixed = classes_np.astype(f'<U{max_len}')\n",
    "\n",
    "# Save as .npy → fast, reliable, ideal for Python/NumPy\n",
    "np.save(\"../models/label_encoder_classes_v1.npy\", classes_np_fixed, allow_pickle=False)\n",
    "print(\"Label Encoder classes saved as label_encoder_classes_v1.npy\")\n",
    "\n",
    "# Save as .json → human-readable, portable, easy to inspect/share\n",
    "with open(\"../models/label_encoder_classes_v1.json\", \"w\", encoding=\"utf-8\") as f:\n",
    "    json.dump(classes_np_fixed.tolist(), f, ensure_ascii=False)\n",
    "print(\"Label Encoder classes saved as label_encoder_classes_v1.json\")"
   ]
  }
 ],
 "metadata": {
  "kernelspec": {
   "display_name": "Python 3 (ipykernel)",
   "language": "python",
   "name": "python3"
  },
  "language_info": {
   "codemirror_mode": {
    "name": "ipython",
    "version": 3
   },
   "file_extension": ".py",
   "mimetype": "text/x-python",
   "name": "python",
   "nbconvert_exporter": "python",
   "pygments_lexer": "ipython3",
   "version": "3.11.9"
  }
 },
 "nbformat": 4,
 "nbformat_minor": 5
}
