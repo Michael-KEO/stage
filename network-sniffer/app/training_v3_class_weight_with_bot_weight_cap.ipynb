{
 "cells": [
  {
   "cell_type": "code",
   "execution_count": 1,
   "id": "9bd98238-95a9-462e-9cb7-38b0e2dd5294",
   "metadata": {
    "tags": []
   },
   "outputs": [
    {
     "name": "stdout",
     "output_type": "stream",
     "text": [
      "Calculating class weights for Bot class balancing...\n",
      "Bot class found at index: 1\n",
      "Class names: ['BENIGN', 'Bot', 'DOS/DDOS', 'Patator', 'PortScan', 'WebAttack']\n",
      "Distribution in training set:\n",
      "  BENIGN: 1817056\n",
      "  Bot: 1565\n",
      "  DOS/DDOS: 303798\n",
      "  Patator: 11066\n",
      "  PortScan: 127043\n",
      "  WebAttack: 1744\n",
      "\n",
      "Class weights (balanced - original):\n",
      "  BENIGN: 0.208\n",
      "  Bot: 240.924\n",
      "  DOS/DDOS: 1.241\n",
      "  Patator: 34.072\n",
      "  PortScan: 2.968\n",
      "  WebAttack: 216.196\n",
      "\n",
      "Adjusting Bot weight from 240.9 to 5.0\n",
      "\n",
      "Final class weights:\n",
      "  BENIGN: 0.208\n",
      "  Bot: 5.000\n",
      "  DOS/DDOS: 1.241\n",
      "  Patator: 34.072\n",
      "  PortScan: 2.968\n",
      "  WebAttack: 216.196\n",
      "\n",
      "Data ready for GPU training with balanced classes!\n"
     ]
    }
   ],
   "source": [
    "# With weight cap? First 20.0\n",
    "print(\"Calculating class weights for Bot class balancing...\")\n",
    "\n",
    "import cupy as cp\n",
    "import numpy as np\n",
    "import cudf\n",
    "from sklearn.utils.class_weight import compute_class_weight\n",
    "from cuml.preprocessing import LabelEncoder\n",
    "\n",
    "#  Loading the datasets \n",
    "X_train = cudf.read_csv(\"../data/train_test/X_train.csv\")\n",
    "y_train = cudf.read_csv(\"../data/train_test/y_train.csv\").iloc[:, 0]\n",
    "\n",
    "#  Read only the labels column from cleaned file to get original class names \n",
    "y_labels = cudf.read_csv(\"../data/processed_file_cleaned.csv\", usecols=['mapped_label'])['mapped_label']\n",
    "\n",
    "#  Label encoding \n",
    "le = LabelEncoder()\n",
    "_ = le.fit_transform(y_labels)  # encode the original names\n",
    "class_names = le.classes_.to_pandas().tolist()\n",
    "\n",
    "#  Identify Bot class \n",
    "bot_class_index = None\n",
    "for i, class_name in enumerate(class_names):\n",
    "    if 'Bot' in class_name:\n",
    "        bot_class_index = i\n",
    "        break\n",
    "\n",
    "print(f\"Bot class found at index: {bot_class_index}\")\n",
    "print(f\"Class names: {class_names}\")\n",
    "\n",
    "#  Count samples per class in training set \n",
    "y_train_numpy = y_train.to_pandas().values\n",
    "unique, counts = np.unique(y_train_numpy, return_counts=True)\n",
    "\n",
    "print(\"Distribution in training set:\")\n",
    "for i, count in zip(unique, counts):\n",
    "    print(f\"  {class_names[i]}: {count}\")\n",
    "\n",
    "#  Calculate balanced class weights \n",
    "class_weights = compute_class_weight(\n",
    "    'balanced',\n",
    "    classes=np.unique(y_train_numpy),\n",
    "    y=y_train_numpy\n",
    ")\n",
    "\n",
    "# Convert to dictionary \n",
    "class_weight_dict = {i: weight for i, weight in enumerate(class_weights)}\n",
    "\n",
    "print(f\"\\nClass weights (balanced - original):\")\n",
    "for i, weight in class_weight_dict.items():\n",
    "    print(f\"  {class_names[i]}: {weight:.3f}\")\n",
    "\n",
    "#  Adjust Bot weight to improve precision \n",
    "bot_weight_cap = 5.0  # 50, 20, 10, 5\n",
    "print(f\"\\nAdjusting Bot weight from {class_weight_dict[bot_class_index]:.1f} to {min(class_weight_dict[bot_class_index], bot_weight_cap):.1f}\")\n",
    "class_weight_dict[bot_class_index] = min(class_weight_dict[bot_class_index], bot_weight_cap)\n",
    "\n",
    "print(f\"\\nFinal class weights:\")\n",
    "for i, weight in class_weight_dict.items():\n",
    "    print(f\"  {class_names[i]}: {weight:.3f}\")\n",
    "\n",
    "#  Keep data on GPU \n",
    "X_train_cp = X_train.to_cupy()\n",
    "y_train_cp = y_train.to_cupy()\n",
    "\n",
    "print(\"\\nData ready for GPU training with balanced classes!\")"
   ]
  },
  {
   "cell_type": "code",
   "execution_count": 2,
   "id": "715e1048",
   "metadata": {
    "tags": []
   },
   "outputs": [
    {
     "name": "stdout",
     "output_type": "stream",
     "text": [
      "Training the XGBoost model with class balancing...\n",
      "Model trained successfully!\n"
     ]
    }
   ],
   "source": [
    "print(\"Training the XGBoost model with class balancing...\")\n",
    "\n",
    "import xgboost as xgb\n",
    "\n",
    "sample_weights = np.array([class_weight_dict[label] for label in y_train_numpy])\n",
    "\n",
    "model = xgb.XGBClassifier(\n",
    "    n_estimators=100,\n",
    "    max_depth=6,\n",
    "    learning_rate=0.1,\n",
    "    use_label_encoder=False,\n",
    "    eval_metric='mlogloss',\n",
    "    tree_method='hist',\n",
    "    device='cuda',\n",
    "    random_state=42\n",
    ")\n",
    "\n",
    "# Entraînement avec poids sur GPU\n",
    "model.fit(\n",
    "    X_train_cp, \n",
    "    y_train_cp,\n",
    "    sample_weight=cp.asarray(sample_weights)  # Poids sur GPU\n",
    ")\n",
    "\n",
    "print(\"Model trained successfully!\")"
   ]
  },
  {
   "cell_type": "code",
   "execution_count": 3,
   "id": "eb0d1e3d-d604-45ab-8d11-f2fa8a2e8002",
   "metadata": {
    "tags": []
   },
   "outputs": [
    {
     "name": "stdout",
     "output_type": "stream",
     "text": [
      "Model saved as xgb_model_v3.json\n",
      "Label Encoder classes saved as label_encoder_classes_v3.npy\n",
      "Label Encoder classes saved as label_encoder_classes_v3.json\n"
     ]
    }
   ],
   "source": [
    "import numpy as np\n",
    "import json\n",
    "\n",
    "model.save_model(\"../models/xgb_model_v3.json\")\n",
    "print(\"Model saved as xgb_model_v3.json\")\n",
    "\n",
    "# Convert cudf column -> pandas -> numpy array of strings\n",
    "classes_np = le.classes_.to_pandas().astype(str).to_numpy()\n",
    "\n",
    "# Fix for .npy: convert to fixed-length Unicode array so allow_pickle=False works\n",
    "max_len = max(len(s) for s in classes_np)\n",
    "classes_np_fixed = classes_np.astype(f'<U{max_len}')\n",
    "\n",
    "# Save as .npy → fast, reliable, ideal for Python/NumPy\n",
    "np.save(\"../models/label_encoder_classes_v3.npy\", classes_np_fixed, allow_pickle=False)\n",
    "print(\"Label Encoder classes saved as label_encoder_classes_v3.npy\")\n",
    "\n",
    "# Save as .json → human-readable, portable, easy to inspect/share\n",
    "with open(\"../models/label_encoder_classes_v3.json\", \"w\", encoding=\"utf-8\") as f:\n",
    "    json.dump(classes_np_fixed.tolist(), f, ensure_ascii=False)\n",
    "print(\"Label Encoder classes saved as label_encoder_classes_v3.json\")"
   ]
  }
 ],
 "metadata": {
  "kernelspec": {
   "display_name": "Python 3 (ipykernel)",
   "language": "python",
   "name": "python3"
  },
  "language_info": {
   "codemirror_mode": {
    "name": "ipython",
    "version": 3
   },
   "file_extension": ".py",
   "mimetype": "text/x-python",
   "name": "python",
   "nbconvert_exporter": "python",
   "pygments_lexer": "ipython3",
   "version": "3.11.9"
  }
 },
 "nbformat": 4,
 "nbformat_minor": 5
}
